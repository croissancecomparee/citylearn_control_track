{
 "cells": [
  {
   "cell_type": "code",
   "execution_count": null,
   "id": "f6b50241",
   "metadata": {},
   "outputs": [],
   "source": [
    "!pip install numpy==1.21.6"
   ]
  },
  {
   "cell_type": "code",
   "execution_count": 5,
   "id": "ac7503ca",
   "metadata": {},
   "outputs": [
    {
     "name": "stdout",
     "output_type": "stream",
     "text": [
      "Defaulting to user installation because normal site-packages is not writeable\n",
      "Requirement already satisfied: CityLearn==2.1b9 in c:\\users\\febaubriau\\appdata\\roaming\\python\\python37\\site-packages (2.1b9)\n",
      "Requirement already satisfied: matplotlib in c:\\programdata\\anaconda3\\envs\\tensorflow_gpu_0\\lib\\site-packages (from CityLearn==2.1b9) (3.5.3)\n",
      "Requirement already satisfied: pandas==1.3.5 in c:\\users\\febaubriau\\appdata\\roaming\\python\\python37\\site-packages (from CityLearn==2.1b9) (1.3.5)\n",
      "Requirement already satisfied: numpy>=1.21.6 in c:\\users\\febaubriau\\appdata\\roaming\\python\\python37\\site-packages (from CityLearn==2.1b9) (1.21.6)\n",
      "Requirement already satisfied: torch>=1.12.0 in c:\\users\\febaubriau\\appdata\\roaming\\python\\python37\\site-packages (from CityLearn==2.1b9) (1.13.1)\n",
      "Requirement already satisfied: simplejson in c:\\users\\febaubriau\\appdata\\roaming\\python\\python37\\site-packages (from CityLearn==2.1b9) (3.19.2)\n",
      "Requirement already satisfied: torchvision>=0.13.0 in c:\\users\\febaubriau\\appdata\\roaming\\python\\python37\\site-packages (from CityLearn==2.1b9) (0.14.1)\n",
      "Requirement already satisfied: gym>=0.21.0 in c:\\users\\febaubriau\\appdata\\roaming\\python\\python37\\site-packages (from CityLearn==2.1b9) (0.26.2)\n",
      "Requirement already satisfied: scikit-learn==1.0.2 in c:\\programdata\\anaconda3\\envs\\tensorflow_gpu_0\\lib\\site-packages (from CityLearn==2.1b9) (1.0.2)\n",
      "Requirement already satisfied: python-dateutil>=2.7.3 in c:\\programdata\\anaconda3\\envs\\tensorflow_gpu_0\\lib\\site-packages (from pandas==1.3.5->CityLearn==2.1b9) (2.8.2)\n",
      "Requirement already satisfied: pytz>=2017.3 in c:\\users\\febaubriau\\appdata\\roaming\\python\\python37\\site-packages (from pandas==1.3.5->CityLearn==2.1b9) (2023.3.post1)\n",
      "Requirement already satisfied: joblib>=0.11 in c:\\programdata\\anaconda3\\envs\\tensorflow_gpu_0\\lib\\site-packages (from scikit-learn==1.0.2->CityLearn==2.1b9) (1.3.1)\n",
      "Requirement already satisfied: threadpoolctl>=2.0.0 in c:\\programdata\\anaconda3\\envs\\tensorflow_gpu_0\\lib\\site-packages (from scikit-learn==1.0.2->CityLearn==2.1b9) (3.1.0)\n",
      "Requirement already satisfied: scipy>=1.1.0 in c:\\programdata\\anaconda3\\envs\\tensorflow_gpu_0\\lib\\site-packages (from scikit-learn==1.0.2->CityLearn==2.1b9) (1.7.3)\n",
      "Requirement already satisfied: cloudpickle>=1.2.0 in c:\\users\\febaubriau\\appdata\\roaming\\python\\python37\\site-packages (from gym>=0.21.0->CityLearn==2.1b9) (2.2.1)\n",
      "Requirement already satisfied: gym-notices>=0.0.4 in c:\\users\\febaubriau\\appdata\\roaming\\python\\python37\\site-packages (from gym>=0.21.0->CityLearn==2.1b9) (0.0.8)\n",
      "Requirement already satisfied: importlib-metadata>=4.8.0 in c:\\programdata\\anaconda3\\envs\\tensorflow_gpu_0\\lib\\site-packages (from gym>=0.21.0->CityLearn==2.1b9) (6.7.0)\n",
      "Requirement already satisfied: typing-extensions in c:\\programdata\\anaconda3\\envs\\tensorflow_gpu_0\\lib\\site-packages (from torch>=1.12.0->CityLearn==2.1b9) (4.1.1)\n",
      "Requirement already satisfied: pillow!=8.3.*,>=5.3.0 in c:\\programdata\\anaconda3\\envs\\tensorflow_gpu_0\\lib\\site-packages (from torchvision>=0.13.0->CityLearn==2.1b9) (9.5.0)\n",
      "Requirement already satisfied: requests in c:\\programdata\\anaconda3\\envs\\tensorflow_gpu_0\\lib\\site-packages (from torchvision>=0.13.0->CityLearn==2.1b9) (2.31.0)\n",
      "Requirement already satisfied: packaging>=20.0 in c:\\programdata\\anaconda3\\envs\\tensorflow_gpu_0\\lib\\site-packages (from matplotlib->CityLearn==2.1b9) (22.0)\n",
      "Requirement already satisfied: fonttools>=4.22.0 in c:\\programdata\\anaconda3\\envs\\tensorflow_gpu_0\\lib\\site-packages (from matplotlib->CityLearn==2.1b9) (4.38.0)\n",
      "Requirement already satisfied: cycler>=0.10 in c:\\programdata\\anaconda3\\envs\\tensorflow_gpu_0\\lib\\site-packages (from matplotlib->CityLearn==2.1b9) (0.11.0)\n",
      "Requirement already satisfied: kiwisolver>=1.0.1 in c:\\programdata\\anaconda3\\envs\\tensorflow_gpu_0\\lib\\site-packages (from matplotlib->CityLearn==2.1b9) (1.4.4)\n",
      "Requirement already satisfied: pyparsing>=2.2.1 in c:\\programdata\\anaconda3\\envs\\tensorflow_gpu_0\\lib\\site-packages (from matplotlib->CityLearn==2.1b9) (3.1.0)\n",
      "Requirement already satisfied: zipp>=0.5 in c:\\programdata\\anaconda3\\envs\\tensorflow_gpu_0\\lib\\site-packages (from importlib-metadata>=4.8.0->gym>=0.21.0->CityLearn==2.1b9) (3.15.0)\n",
      "Requirement already satisfied: six>=1.5 in c:\\programdata\\anaconda3\\envs\\tensorflow_gpu_0\\lib\\site-packages (from python-dateutil>=2.7.3->pandas==1.3.5->CityLearn==2.1b9) (1.16.0)\n",
      "Requirement already satisfied: charset-normalizer<4,>=2 in c:\\programdata\\anaconda3\\envs\\tensorflow_gpu_0\\lib\\site-packages (from requests->torchvision>=0.13.0->CityLearn==2.1b9) (3.1.0)\n",
      "Requirement already satisfied: certifi>=2017.4.17 in c:\\programdata\\anaconda3\\envs\\tensorflow_gpu_0\\lib\\site-packages (from requests->torchvision>=0.13.0->CityLearn==2.1b9) (2022.12.7)\n",
      "Requirement already satisfied: urllib3<3,>=1.21.1 in c:\\programdata\\anaconda3\\envs\\tensorflow_gpu_0\\lib\\site-packages (from requests->torchvision>=0.13.0->CityLearn==2.1b9) (1.26.16)\n",
      "Requirement already satisfied: idna<4,>=2.5 in c:\\programdata\\anaconda3\\envs\\tensorflow_gpu_0\\lib\\site-packages (from requests->torchvision>=0.13.0->CityLearn==2.1b9) (3.4)\n"
     ]
    }
   ],
   "source": [
    "!pip install CityLearn==2.1b9"
   ]
  },
  {
   "cell_type": "code",
   "execution_count": 1,
   "id": "d93b03c6",
   "metadata": {},
   "outputs": [
    {
     "name": "stdout",
     "output_type": "stream",
     "text": [
      "2.1b9\n"
     ]
    }
   ],
   "source": [
    "import citylearn\n",
    "print(citylearn.__version__)"
   ]
  },
  {
   "cell_type": "code",
   "execution_count": 2,
   "id": "d87e5e42",
   "metadata": {},
   "outputs": [
    {
     "name": "stdout",
     "output_type": "stream",
     "text": [
      "Defaulting to user installation because normal site-packages is not writeable\n",
      "Requirement already satisfied: gym==0.21.0 in c:\\users\\febaubriau\\appdata\\roaming\\python\\python37\\site-packages (0.21.0)\n",
      "Requirement already satisfied: importlib-metadata>=4.8.1 in c:\\users\\febaubriau\\appdata\\roaming\\python\\python37\\site-packages (from gym==0.21.0) (4.13.0)\n",
      "Requirement already satisfied: cloudpickle>=1.2.0 in c:\\users\\febaubriau\\appdata\\roaming\\python\\python37\\site-packages (from gym==0.21.0) (2.2.1)\n",
      "Requirement already satisfied: numpy>=1.18.0 in c:\\users\\febaubriau\\appdata\\roaming\\python\\python37\\site-packages (from gym==0.21.0) (1.21.6)\n",
      "Requirement already satisfied: typing-extensions>=3.6.4 in c:\\users\\febaubriau\\appdata\\roaming\\python\\python37\\site-packages (from importlib-metadata>=4.8.1->gym==0.21.0) (4.7.1)\n",
      "Requirement already satisfied: zipp>=0.5 in c:\\programdata\\anaconda3\\envs\\tensorflow_gpu_0\\lib\\site-packages (from importlib-metadata>=4.8.1->gym==0.21.0) (3.15.0)\n"
     ]
    }
   ],
   "source": [
    "!pip install gym==0.21.0"
   ]
  },
  {
   "cell_type": "code",
   "execution_count": 3,
   "id": "a88d5a03",
   "metadata": {},
   "outputs": [
    {
     "name": "stdout",
     "output_type": "stream",
     "text": [
      "Defaulting to user installation because normal site-packages is not writeable\n",
      "Requirement already satisfied: Shimmy==1.1.0 in c:\\users\\febaubriau\\appdata\\roaming\\python\\python37\\site-packages (1.1.0)\n",
      "Requirement already satisfied: numpy>=1.18.0 in c:\\users\\febaubriau\\appdata\\roaming\\python\\python37\\site-packages (from Shimmy==1.1.0) (1.21.6)\n",
      "Requirement already satisfied: gymnasium>=0.27.0 in c:\\users\\febaubriau\\appdata\\roaming\\python\\python37\\site-packages (from Shimmy==1.1.0) (0.28.1)\n",
      "Requirement already satisfied: jax-jumpy>=1.0.0 in c:\\users\\febaubriau\\appdata\\roaming\\python\\python37\\site-packages (from gymnasium>=0.27.0->Shimmy==1.1.0) (1.0.0)\n",
      "Requirement already satisfied: typing-extensions>=4.3.0 in c:\\users\\febaubriau\\appdata\\roaming\\python\\python37\\site-packages (from gymnasium>=0.27.0->Shimmy==1.1.0) (4.7.1)\n",
      "Requirement already satisfied: importlib-metadata>=4.8.0 in c:\\users\\febaubriau\\appdata\\roaming\\python\\python37\\site-packages (from gymnasium>=0.27.0->Shimmy==1.1.0) (4.13.0)\n",
      "Requirement already satisfied: cloudpickle>=1.2.0 in c:\\users\\febaubriau\\appdata\\roaming\\python\\python37\\site-packages (from gymnasium>=0.27.0->Shimmy==1.1.0) (2.2.1)\n",
      "Requirement already satisfied: farama-notifications>=0.0.1 in c:\\users\\febaubriau\\appdata\\roaming\\python\\python37\\site-packages (from gymnasium>=0.27.0->Shimmy==1.1.0) (0.0.4)\n",
      "Requirement already satisfied: zipp>=0.5 in c:\\programdata\\anaconda3\\envs\\tensorflow_gpu_0\\lib\\site-packages (from importlib-metadata>=4.8.0->gymnasium>=0.27.0->Shimmy==1.1.0) (3.15.0)\n"
     ]
    }
   ],
   "source": [
    "!pip install Shimmy==1.1.0"
   ]
  },
  {
   "cell_type": "code",
   "execution_count": 4,
   "id": "ab0019ae",
   "metadata": {},
   "outputs": [
    {
     "name": "stdout",
     "output_type": "stream",
     "text": [
      "Defaulting to user installation because normal site-packages is not writeable\n",
      "Requirement already satisfied: stable-baselines3==1.8.0 in c:\\users\\febaubriau\\appdata\\roaming\\python\\python37\\site-packages (1.8.0)\n",
      "Requirement already satisfied: typing-extensions<5,>=4.0 in c:\\users\\febaubriau\\appdata\\roaming\\python\\python37\\site-packages (from stable-baselines3==1.8.0) (4.7.1)\n",
      "Requirement already satisfied: pandas in c:\\users\\febaubriau\\appdata\\roaming\\python\\python37\\site-packages (from stable-baselines3==1.8.0) (1.3.5)\n",
      "Requirement already satisfied: cloudpickle in c:\\users\\febaubriau\\appdata\\roaming\\python\\python37\\site-packages (from stable-baselines3==1.8.0) (2.2.1)\n",
      "Requirement already satisfied: gym==0.21 in c:\\users\\febaubriau\\appdata\\roaming\\python\\python37\\site-packages (from stable-baselines3==1.8.0) (0.21.0)\n",
      "Requirement already satisfied: matplotlib in c:\\programdata\\anaconda3\\envs\\tensorflow_gpu_0\\lib\\site-packages (from stable-baselines3==1.8.0) (3.5.3)\n",
      "Requirement already satisfied: importlib-metadata~=4.13 in c:\\users\\febaubriau\\appdata\\roaming\\python\\python37\\site-packages (from stable-baselines3==1.8.0) (4.13.0)\n",
      "Requirement already satisfied: torch>=1.11 in c:\\users\\febaubriau\\appdata\\roaming\\python\\python37\\site-packages (from stable-baselines3==1.8.0) (1.13.1)\n",
      "Requirement already satisfied: numpy in c:\\users\\febaubriau\\appdata\\roaming\\python\\python37\\site-packages (from stable-baselines3==1.8.0) (1.21.6)\n",
      "Requirement already satisfied: zipp>=0.5 in c:\\programdata\\anaconda3\\envs\\tensorflow_gpu_0\\lib\\site-packages (from importlib-metadata~=4.13->stable-baselines3==1.8.0) (3.15.0)\n",
      "Requirement already satisfied: fonttools>=4.22.0 in c:\\programdata\\anaconda3\\envs\\tensorflow_gpu_0\\lib\\site-packages (from matplotlib->stable-baselines3==1.8.0) (4.38.0)\n",
      "Requirement already satisfied: kiwisolver>=1.0.1 in c:\\programdata\\anaconda3\\envs\\tensorflow_gpu_0\\lib\\site-packages (from matplotlib->stable-baselines3==1.8.0) (1.4.4)\n",
      "Requirement already satisfied: pillow>=6.2.0 in c:\\programdata\\anaconda3\\envs\\tensorflow_gpu_0\\lib\\site-packages (from matplotlib->stable-baselines3==1.8.0) (9.5.0)\n",
      "Requirement already satisfied: pyparsing>=2.2.1 in c:\\programdata\\anaconda3\\envs\\tensorflow_gpu_0\\lib\\site-packages (from matplotlib->stable-baselines3==1.8.0) (3.1.0)\n",
      "Requirement already satisfied: python-dateutil>=2.7 in c:\\programdata\\anaconda3\\envs\\tensorflow_gpu_0\\lib\\site-packages (from matplotlib->stable-baselines3==1.8.0) (2.8.2)\n",
      "Requirement already satisfied: cycler>=0.10 in c:\\programdata\\anaconda3\\envs\\tensorflow_gpu_0\\lib\\site-packages (from matplotlib->stable-baselines3==1.8.0) (0.11.0)\n",
      "Requirement already satisfied: packaging>=20.0 in c:\\programdata\\anaconda3\\envs\\tensorflow_gpu_0\\lib\\site-packages (from matplotlib->stable-baselines3==1.8.0) (22.0)\n",
      "Requirement already satisfied: pytz>=2017.3 in c:\\users\\febaubriau\\appdata\\roaming\\python\\python37\\site-packages (from pandas->stable-baselines3==1.8.0) (2023.3.post1)\n",
      "Requirement already satisfied: six>=1.5 in c:\\programdata\\anaconda3\\envs\\tensorflow_gpu_0\\lib\\site-packages (from python-dateutil>=2.7->matplotlib->stable-baselines3==1.8.0) (1.16.0)\n"
     ]
    }
   ],
   "source": [
    "!pip install stable-baselines3==1.8.0"
   ]
  },
  {
   "cell_type": "code",
   "execution_count": 5,
   "id": "51c72722",
   "metadata": {},
   "outputs": [
    {
     "name": "stdout",
     "output_type": "stream",
     "text": [
      "Defaulting to user installation because normal site-packages is not writeable\n",
      "Collecting tqdm\n",
      "  Downloading tqdm-4.66.1-py3-none-any.whl (78 kB)\n",
      "     ---------------------------------------- 78.3/78.3 kB 2.1 MB/s eta 0:00:00\n",
      "Requirement already satisfied: colorama in c:\\programdata\\anaconda3\\envs\\tensorflow_gpu_0\\lib\\site-packages (from tqdm) (0.4.6)\n",
      "Installing collected packages: tqdm\n",
      "Successfully installed tqdm-4.66.1\n"
     ]
    },
    {
     "name": "stderr",
     "output_type": "stream",
     "text": [
      "  WARNING: The script tqdm.exe is installed in 'C:\\Users\\febaubriau\\AppData\\Roaming\\Python\\Python37\\Scripts' which is not on PATH.\n",
      "  Consider adding this directory to PATH or, if you prefer to suppress this warning, use --no-warn-script-location.\n"
     ]
    }
   ],
   "source": [
    "!pip install tqdm"
   ]
  },
  {
   "cell_type": "code",
   "execution_count": 1,
   "id": "316618b1",
   "metadata": {},
   "outputs": [
    {
     "name": "stdout",
     "output_type": "stream",
     "text": [
      "Note: you may need to restart the kernel to use updated packages.\n"
     ]
    },
    {
     "name": "stderr",
     "output_type": "stream",
     "text": [
      "\n",
      "Usage:   \n",
      "  C:\\Users\\Felix\\Anaconda3\\envs\\citylearn\\python.exe -m pip install [options] <requirement specifier> [package-index-options] ...\n",
      "  C:\\Users\\Felix\\Anaconda3\\envs\\citylearn\\python.exe -m pip install [options] -r <requirements file> [package-index-options] ...\n",
      "  C:\\Users\\Felix\\Anaconda3\\envs\\citylearn\\python.exe -m pip install [options] [-e] <vcs project url> ...\n",
      "  C:\\Users\\Felix\\Anaconda3\\envs\\citylearn\\python.exe -m pip install [options] [-e] <local project path> ...\n",
      "  C:\\Users\\Felix\\Anaconda3\\envs\\citylearn\\python.exe -m pip install [options] <archive url/path> ...\n",
      "\n",
      "-f option requires 1 argument\n"
     ]
    }
   ],
   "source": [
    "pip install torch===1.11.0 torchvision===0.1.6 -f"
   ]
  },
  {
   "cell_type": "code",
   "execution_count": null,
   "metadata": {},
   "outputs": [],
   "source": []
  }
 ],
 "metadata": {
  "kernelspec": {
   "display_name": "Python 3",
   "language": "python",
   "name": "python3"
  },
  "language_info": {
   "codemirror_mode": {
    "name": "ipython",
    "version": 3
   },
   "file_extension": ".py",
   "mimetype": "text/x-python",
   "name": "python",
   "nbconvert_exporter": "python",
   "pygments_lexer": "ipython3",
   "version": "3.8.5"
  }
 },
 "nbformat": 4,
 "nbformat_minor": 5
}
