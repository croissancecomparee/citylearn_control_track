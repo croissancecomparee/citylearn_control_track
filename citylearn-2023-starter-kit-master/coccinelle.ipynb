{
 "cells": [
  {
   "cell_type": "code",
   "execution_count": 1,
   "id": "59e184dd",
   "metadata": {
    "scrolled": true
   },
   "outputs": [
    {
     "name": "stdout",
     "output_type": "stream",
     "text": [
      "Defaulting to user installation because normal site-packages is not writeable\n",
      "Requirement already satisfied: numpy==1.21.6 in c:\\users\\gacece\\appdata\\roaming\\python\\python37\\site-packages (1.21.6)\n"
     ]
    }
   ],
   "source": [
    "!pip install numpy==1.21.6"
   ]
  },
  {
   "cell_type": "code",
   "execution_count": 2,
   "id": "9f987349",
   "metadata": {},
   "outputs": [
    {
     "name": "stdout",
     "output_type": "stream",
     "text": [
      "Defaulting to user installation because normal site-packages is not writeable\n",
      "Requirement already satisfied: CityLearn==2.1b9 in c:\\users\\gacece\\appdata\\roaming\\python\\python37\\site-packages (2.1b9)\n",
      "Requirement already satisfied: gym>=0.21.0 in c:\\users\\gacece\\appdata\\roaming\\python\\python37\\site-packages (from CityLearn==2.1b9) (0.21.0)\n",
      "Requirement already satisfied: simplejson in c:\\users\\gacece\\appdata\\roaming\\python\\python37\\site-packages (from CityLearn==2.1b9) (3.19.2)\n",
      "Requirement already satisfied: scikit-learn==1.0.2 in c:\\programdata\\anaconda3\\envs\\tensorflow_gpu_0\\lib\\site-packages (from CityLearn==2.1b9) (1.0.2)\n",
      "Requirement already satisfied: torch>=1.12.0 in c:\\users\\gacece\\appdata\\roaming\\python\\python37\\site-packages (from CityLearn==2.1b9) (1.13.1)\n",
      "Requirement already satisfied: matplotlib in c:\\programdata\\anaconda3\\envs\\tensorflow_gpu_0\\lib\\site-packages (from CityLearn==2.1b9) (3.5.3)\n",
      "Requirement already satisfied: pandas==1.3.5 in c:\\users\\gacece\\appdata\\roaming\\python\\python37\\site-packages (from CityLearn==2.1b9) (1.3.5)\n",
      "Requirement already satisfied: torchvision>=0.13.0 in c:\\users\\gacece\\appdata\\roaming\\python\\python37\\site-packages (from CityLearn==2.1b9) (0.14.1)\n",
      "Requirement already satisfied: numpy>=1.21.6 in c:\\users\\gacece\\appdata\\roaming\\python\\python37\\site-packages (from CityLearn==2.1b9) (1.21.6)\n",
      "Requirement already satisfied: pytz>=2017.3 in c:\\users\\gacece\\appdata\\roaming\\python\\python37\\site-packages (from pandas==1.3.5->CityLearn==2.1b9) (2023.3.post1)\n",
      "Requirement already satisfied: python-dateutil>=2.7.3 in c:\\programdata\\anaconda3\\envs\\tensorflow_gpu_0\\lib\\site-packages (from pandas==1.3.5->CityLearn==2.1b9) (2.8.2)\n",
      "Requirement already satisfied: joblib>=0.11 in c:\\programdata\\anaconda3\\envs\\tensorflow_gpu_0\\lib\\site-packages (from scikit-learn==1.0.2->CityLearn==2.1b9) (1.3.1)\n",
      "Requirement already satisfied: threadpoolctl>=2.0.0 in c:\\programdata\\anaconda3\\envs\\tensorflow_gpu_0\\lib\\site-packages (from scikit-learn==1.0.2->CityLearn==2.1b9) (3.1.0)\n",
      "Requirement already satisfied: scipy>=1.1.0 in c:\\programdata\\anaconda3\\envs\\tensorflow_gpu_0\\lib\\site-packages (from scikit-learn==1.0.2->CityLearn==2.1b9) (1.7.3)\n",
      "Requirement already satisfied: importlib-metadata>=4.8.1 in c:\\programdata\\anaconda3\\envs\\tensorflow_gpu_0\\lib\\site-packages (from gym>=0.21.0->CityLearn==2.1b9) (6.7.0)\n",
      "Requirement already satisfied: cloudpickle>=1.2.0 in c:\\users\\gacece\\appdata\\roaming\\python\\python37\\site-packages (from gym>=0.21.0->CityLearn==2.1b9) (2.2.1)\n",
      "Requirement already satisfied: typing-extensions in c:\\users\\gacece\\appdata\\roaming\\python\\python37\\site-packages (from torch>=1.12.0->CityLearn==2.1b9) (4.7.1)\n",
      "Requirement already satisfied: pillow!=8.3.*,>=5.3.0 in c:\\programdata\\anaconda3\\envs\\tensorflow_gpu_0\\lib\\site-packages (from torchvision>=0.13.0->CityLearn==2.1b9) (9.5.0)\n",
      "Requirement already satisfied: requests in c:\\programdata\\anaconda3\\envs\\tensorflow_gpu_0\\lib\\site-packages (from torchvision>=0.13.0->CityLearn==2.1b9) (2.31.0)\n",
      "Requirement already satisfied: fonttools>=4.22.0 in c:\\programdata\\anaconda3\\envs\\tensorflow_gpu_0\\lib\\site-packages (from matplotlib->CityLearn==2.1b9) (4.38.0)\n",
      "Requirement already satisfied: cycler>=0.10 in c:\\programdata\\anaconda3\\envs\\tensorflow_gpu_0\\lib\\site-packages (from matplotlib->CityLearn==2.1b9) (0.11.0)\n",
      "Requirement already satisfied: pyparsing>=2.2.1 in c:\\programdata\\anaconda3\\envs\\tensorflow_gpu_0\\lib\\site-packages (from matplotlib->CityLearn==2.1b9) (3.1.0)\n",
      "Requirement already satisfied: kiwisolver>=1.0.1 in c:\\programdata\\anaconda3\\envs\\tensorflow_gpu_0\\lib\\site-packages (from matplotlib->CityLearn==2.1b9) (1.4.4)\n",
      "Requirement already satisfied: packaging>=20.0 in c:\\programdata\\anaconda3\\envs\\tensorflow_gpu_0\\lib\\site-packages (from matplotlib->CityLearn==2.1b9) (22.0)\n",
      "Requirement already satisfied: zipp>=0.5 in c:\\programdata\\anaconda3\\envs\\tensorflow_gpu_0\\lib\\site-packages (from importlib-metadata>=4.8.1->gym>=0.21.0->CityLearn==2.1b9) (3.15.0)\n",
      "Requirement already satisfied: six>=1.5 in c:\\programdata\\anaconda3\\envs\\tensorflow_gpu_0\\lib\\site-packages (from python-dateutil>=2.7.3->pandas==1.3.5->CityLearn==2.1b9) (1.16.0)\n",
      "Requirement already satisfied: urllib3<3,>=1.21.1 in c:\\programdata\\anaconda3\\envs\\tensorflow_gpu_0\\lib\\site-packages (from requests->torchvision>=0.13.0->CityLearn==2.1b9) (1.26.16)\n",
      "Requirement already satisfied: idna<4,>=2.5 in c:\\programdata\\anaconda3\\envs\\tensorflow_gpu_0\\lib\\site-packages (from requests->torchvision>=0.13.0->CityLearn==2.1b9) (3.4)\n",
      "Requirement already satisfied: certifi>=2017.4.17 in c:\\programdata\\anaconda3\\envs\\tensorflow_gpu_0\\lib\\site-packages (from requests->torchvision>=0.13.0->CityLearn==2.1b9) (2022.12.7)\n",
      "Requirement already satisfied: charset-normalizer<4,>=2 in c:\\programdata\\anaconda3\\envs\\tensorflow_gpu_0\\lib\\site-packages (from requests->torchvision>=0.13.0->CityLearn==2.1b9) (3.1.0)\n"
     ]
    }
   ],
   "source": [
    "!pip install CityLearn==2.1b9"
   ]
  },
  {
   "cell_type": "code",
   "execution_count": 3,
   "id": "06bc0b43",
   "metadata": {},
   "outputs": [
    {
     "name": "stdout",
     "output_type": "stream",
     "text": [
      "Defaulting to user installation because normal site-packages is not writeable\n",
      "Requirement already satisfied: gym==0.21.0 in c:\\users\\gacece\\appdata\\roaming\\python\\python37\\site-packages (0.21.0)\n",
      "Requirement already satisfied: importlib-metadata>=4.8.1 in c:\\programdata\\anaconda3\\envs\\tensorflow_gpu_0\\lib\\site-packages (from gym==0.21.0) (6.7.0)\n",
      "Requirement already satisfied: numpy>=1.18.0 in c:\\users\\gacece\\appdata\\roaming\\python\\python37\\site-packages (from gym==0.21.0) (1.21.6)\n",
      "Requirement already satisfied: cloudpickle>=1.2.0 in c:\\users\\gacece\\appdata\\roaming\\python\\python37\\site-packages (from gym==0.21.0) (2.2.1)\n",
      "Requirement already satisfied: typing-extensions>=3.6.4 in c:\\users\\gacece\\appdata\\roaming\\python\\python37\\site-packages (from importlib-metadata>=4.8.1->gym==0.21.0) (4.7.1)\n",
      "Requirement already satisfied: zipp>=0.5 in c:\\programdata\\anaconda3\\envs\\tensorflow_gpu_0\\lib\\site-packages (from importlib-metadata>=4.8.1->gym==0.21.0) (3.15.0)\n"
     ]
    }
   ],
   "source": [
    "!pip install gym==0.21.0\n"
   ]
  },
  {
   "cell_type": "code",
   "execution_count": 4,
   "id": "4bbfabe4",
   "metadata": {},
   "outputs": [
    {
     "name": "stdout",
     "output_type": "stream",
     "text": [
      "Defaulting to user installation because normal site-packages is not writeable\n",
      "Requirement already satisfied: Shimmy in c:\\users\\gacece\\appdata\\roaming\\python\\python37\\site-packages (1.1.0)\n",
      "Requirement already satisfied: numpy>=1.18.0 in c:\\users\\gacece\\appdata\\roaming\\python\\python37\\site-packages (from Shimmy) (1.21.6)\n",
      "Requirement already satisfied: gymnasium>=0.27.0 in c:\\users\\gacece\\appdata\\roaming\\python\\python37\\site-packages (from Shimmy) (0.28.1)\n",
      "Requirement already satisfied: typing-extensions>=4.3.0 in c:\\users\\gacece\\appdata\\roaming\\python\\python37\\site-packages (from gymnasium>=0.27.0->Shimmy) (4.7.1)\n",
      "Requirement already satisfied: jax-jumpy>=1.0.0 in c:\\users\\gacece\\appdata\\roaming\\python\\python37\\site-packages (from gymnasium>=0.27.0->Shimmy) (1.0.0)\n",
      "Requirement already satisfied: importlib-metadata>=4.8.0 in c:\\programdata\\anaconda3\\envs\\tensorflow_gpu_0\\lib\\site-packages (from gymnasium>=0.27.0->Shimmy) (6.7.0)\n",
      "Requirement already satisfied: cloudpickle>=1.2.0 in c:\\users\\gacece\\appdata\\roaming\\python\\python37\\site-packages (from gymnasium>=0.27.0->Shimmy) (2.2.1)\n",
      "Requirement already satisfied: farama-notifications>=0.0.1 in c:\\users\\gacece\\appdata\\roaming\\python\\python37\\site-packages (from gymnasium>=0.27.0->Shimmy) (0.0.4)\n",
      "Requirement already satisfied: zipp>=0.5 in c:\\programdata\\anaconda3\\envs\\tensorflow_gpu_0\\lib\\site-packages (from importlib-metadata>=4.8.0->gymnasium>=0.27.0->Shimmy) (3.15.0)\n"
     ]
    }
   ],
   "source": [
    "!pip install Shimmy"
   ]
  },
  {
   "cell_type": "code",
   "execution_count": 5,
   "id": "52023a05",
   "metadata": {},
   "outputs": [
    {
     "name": "stdout",
     "output_type": "stream",
     "text": [
      "Defaulting to user installation because normal site-packages is not writeable\n",
      "Requirement already satisfied: pickle5 in c:\\users\\gacece\\appdata\\roaming\\python\\python37\\site-packages (0.0.12)\n"
     ]
    }
   ],
   "source": [
    "!pip install pickle5"
   ]
  },
  {
   "cell_type": "code",
   "execution_count": 6,
   "id": "3c59574f",
   "metadata": {},
   "outputs": [],
   "source": [
    "#!pip install agents"
   ]
  },
  {
   "cell_type": "code",
   "execution_count": 7,
   "id": "35788e56",
   "metadata": {},
   "outputs": [],
   "source": [
    "#!pip install rewards"
   ]
  },
  {
   "cell_type": "code",
   "execution_count": 8,
   "id": "fbe71511",
   "metadata": {},
   "outputs": [
    {
     "name": "stdout",
     "output_type": "stream",
     "text": [
      "Defaulting to user installation because normal site-packages is not writeable\n",
      "Requirement already satisfied: stable_baselines3 in c:\\users\\gacece\\appdata\\roaming\\python\\python37\\site-packages (2.0.0)\n",
      "Requirement already satisfied: numpy>=1.20 in c:\\users\\gacece\\appdata\\roaming\\python\\python37\\site-packages (from stable_baselines3) (1.21.6)\n",
      "Requirement already satisfied: torch>=1.11 in c:\\users\\gacece\\appdata\\roaming\\python\\python37\\site-packages (from stable_baselines3) (1.13.1)\n",
      "Requirement already satisfied: pandas in c:\\users\\gacece\\appdata\\roaming\\python\\python37\\site-packages (from stable_baselines3) (1.3.5)\n",
      "Requirement already satisfied: typing-extensions<5,>=4.0 in c:\\users\\gacece\\appdata\\roaming\\python\\python37\\site-packages (from stable_baselines3) (4.7.1)\n",
      "Requirement already satisfied: matplotlib in c:\\programdata\\anaconda3\\envs\\tensorflow_gpu_0\\lib\\site-packages (from stable_baselines3) (3.5.3)\n",
      "Requirement already satisfied: cloudpickle in c:\\users\\gacece\\appdata\\roaming\\python\\python37\\site-packages (from stable_baselines3) (2.2.1)\n",
      "Requirement already satisfied: gymnasium==0.28.1 in c:\\users\\gacece\\appdata\\roaming\\python\\python37\\site-packages (from stable_baselines3) (0.28.1)\n",
      "Requirement already satisfied: farama-notifications>=0.0.1 in c:\\users\\gacece\\appdata\\roaming\\python\\python37\\site-packages (from gymnasium==0.28.1->stable_baselines3) (0.0.4)\n",
      "Requirement already satisfied: importlib-metadata>=4.8.0 in c:\\programdata\\anaconda3\\envs\\tensorflow_gpu_0\\lib\\site-packages (from gymnasium==0.28.1->stable_baselines3) (6.7.0)\n",
      "Requirement already satisfied: jax-jumpy>=1.0.0 in c:\\users\\gacece\\appdata\\roaming\\python\\python37\\site-packages (from gymnasium==0.28.1->stable_baselines3) (1.0.0)\n",
      "Requirement already satisfied: fonttools>=4.22.0 in c:\\programdata\\anaconda3\\envs\\tensorflow_gpu_0\\lib\\site-packages (from matplotlib->stable_baselines3) (4.38.0)\n",
      "Requirement already satisfied: cycler>=0.10 in c:\\programdata\\anaconda3\\envs\\tensorflow_gpu_0\\lib\\site-packages (from matplotlib->stable_baselines3) (0.11.0)\n",
      "Requirement already satisfied: pillow>=6.2.0 in c:\\programdata\\anaconda3\\envs\\tensorflow_gpu_0\\lib\\site-packages (from matplotlib->stable_baselines3) (9.5.0)\n",
      "Requirement already satisfied: pyparsing>=2.2.1 in c:\\programdata\\anaconda3\\envs\\tensorflow_gpu_0\\lib\\site-packages (from matplotlib->stable_baselines3) (3.1.0)\n",
      "Requirement already satisfied: kiwisolver>=1.0.1 in c:\\programdata\\anaconda3\\envs\\tensorflow_gpu_0\\lib\\site-packages (from matplotlib->stable_baselines3) (1.4.4)\n",
      "Requirement already satisfied: packaging>=20.0 in c:\\programdata\\anaconda3\\envs\\tensorflow_gpu_0\\lib\\site-packages (from matplotlib->stable_baselines3) (22.0)\n",
      "Requirement already satisfied: python-dateutil>=2.7 in c:\\programdata\\anaconda3\\envs\\tensorflow_gpu_0\\lib\\site-packages (from matplotlib->stable_baselines3) (2.8.2)\n",
      "Requirement already satisfied: pytz>=2017.3 in c:\\users\\gacece\\appdata\\roaming\\python\\python37\\site-packages (from pandas->stable_baselines3) (2023.3.post1)\n",
      "Requirement already satisfied: zipp>=0.5 in c:\\programdata\\anaconda3\\envs\\tensorflow_gpu_0\\lib\\site-packages (from importlib-metadata>=4.8.0->gymnasium==0.28.1->stable_baselines3) (3.15.0)\n",
      "Requirement already satisfied: six>=1.5 in c:\\programdata\\anaconda3\\envs\\tensorflow_gpu_0\\lib\\site-packages (from python-dateutil>=2.7->matplotlib->stable_baselines3) (1.16.0)\n"
     ]
    }
   ],
   "source": [
    "!pip install stable_baselines3"
   ]
  },
  {
   "cell_type": "code",
   "execution_count": 9,
   "id": "d6bf6e08",
   "metadata": {},
   "outputs": [
    {
     "name": "stdout",
     "output_type": "stream",
     "text": [
      "Defaulting to user installation because normal site-packages is not writeable\n",
      "Requirement already satisfied: tqdm in c:\\users\\gacece\\appdata\\roaming\\python\\python37\\site-packages (4.66.1)\n",
      "Requirement already satisfied: colorama in c:\\programdata\\anaconda3\\envs\\tensorflow_gpu_0\\lib\\site-packages (from tqdm) (0.4.6)\n"
     ]
    }
   ],
   "source": [
    "!pip install tqdm"
   ]
  },
  {
   "cell_type": "markdown",
   "id": "52eb41f2",
   "metadata": {},
   "source": [
    "# relancer le kernel"
   ]
  },
  {
   "cell_type": "code",
   "execution_count": 13,
   "id": "4db931cf",
   "metadata": {},
   "outputs": [
    {
     "name": "stderr",
     "output_type": "stream",
     "text": [
      "C:\\Users\\gacece\\AppData\\Roaming\\Python\\Python37\\site-packages\\tqdm\\auto.py:21: TqdmWarning: IProgress not found. Please update jupyter and ipywidgets. See https://ipywidgets.readthedocs.io/en/stable/user_install.html\n",
      "  from .autonotebook import tqdm as notebook_tqdm\n"
     ]
    }
   ],
   "source": [
    "import numpy as np\n",
    "import time\n",
    "import os\n",
    "import csv\n",
    "from citylearn.citylearn import CityLearnEnv\n",
    "from citylearn.reward_function import SolarPenaltyAndComfortReward, SolarPenaltyReward, ComfortReward\n",
    "\n",
    "#from agents.user_agent import SubmissionAgent\n",
    "#from rewards.user_reward import SubmissionReward\n",
    "from stable_baselines3.sac import SAC\n",
    "from stable_baselines3.ppo import PPO\n",
    "from citylearn.wrappers import NormalizedObservationWrapper, StableBaselines3Wrapper\n",
    "\n",
    "from tqdm import tqdm\n",
    "import matplotlib.pyplot as plt "
   ]
  },
  {
   "cell_type": "code",
   "execution_count": 14,
   "id": "b756a54e",
   "metadata": {},
   "outputs": [],
   "source": [
    "class WrapperEnv:\n",
    "    \"\"\"\n",
    "    Env to wrap provide Citylearn Env data without providing full env\n",
    "    Preventing attribute access outside of the available functions\n",
    "    \"\"\"\n",
    "    def __init__(self, env_data):\n",
    "        self.observation_names = env_data['observation_names']\n",
    "        self.action_names = env_data['action_names']\n",
    "        self.observation_space = env_data['observation_space']\n",
    "        self.action_space = env_data['action_space']\n",
    "        self.time_steps = env_data['time_steps']\n",
    "        self.seconds_per_time_step = env_data['seconds_per_time_step']\n",
    "        self.random_seed = env_data['random_seed']\n",
    "        self.buildings_metadata = env_data['buildings_metadata']\n",
    "        self.episode_tracker = env_data['episode_tracker']\n",
    "    \n",
    "    def get_metadata(self):\n",
    "        return {'buildings': self.buildings_metadata}\n",
    "\n",
    "def create_citylearn_env(config, reward_function):\n",
    "    env = CityLearnEnv(config.SCHEMA, reward_function=reward_function)\n",
    "\n",
    "    env_data = dict(\n",
    "        observation_names = env.observation_names,\n",
    "        action_names = env.action_names,\n",
    "        observation_space = env.observation_space,\n",
    "        action_space = env.action_space,\n",
    "        time_steps = env.time_steps,\n",
    "        random_seed = None,\n",
    "        episode_tracker = None,\n",
    "        seconds_per_time_step = None,\n",
    "        buildings_metadata = env.get_metadata()['buildings']\n",
    "    )\n",
    "\n",
    "    wrapper_env = WrapperEnv(env_data)\n",
    "    return env, wrapper_env\n",
    "\n",
    "\n",
    "def update_power_outage_random_seed(env: CityLearnEnv, random_seed: int) -> CityLearnEnv:\n",
    "    \"\"\"Update random seed used in generating power outage signals.\n",
    "    \n",
    "    Used to optionally update random seed for stochastic power outage model in all buildings.\n",
    "    Random seeds should be updated before calling :py:meth:`citylearn.citylearn.CityLearnEnv.reset`.\n",
    "    \"\"\"\n",
    "\n",
    "    for b in env.buildings:\n",
    "        b.stochastic_power_outage_model.random_seed = random_seed\n",
    "\n",
    "    return env"
   ]
  },
  {
   "cell_type": "code",
   "execution_count": 18,
   "id": "a1eec7e3",
   "metadata": {},
   "outputs": [],
   "source": [
    "class Config:\n",
    "    data_dir = './data/'\n",
    "    SCHEMA = os.path.join(data_dir, 'schemas/warm_up/schema.json')\n",
    "    num_episodes = 1\n",
    "    \n",
    "config = Config()"
   ]
  },
  {
   "cell_type": "code",
   "execution_count": 19,
   "id": "cc3d200c",
   "metadata": {
    "scrolled": true
   },
   "outputs": [],
   "source": [
    "env, wrapper_env = create_citylearn_env(config, ComfortReward)"
   ]
  },
  {
   "cell_type": "code",
   "execution_count": 20,
   "id": "d129717d",
   "metadata": {},
   "outputs": [],
   "source": [
    "env = NormalizedObservationWrapper(env)\n",
    "env = StableBaselines3Wrapper(env)"
   ]
  },
  {
   "cell_type": "markdown",
   "id": "f8145e8a",
   "metadata": {},
   "source": [
    "# Test Trainning"
   ]
  },
  {
   "cell_type": "code",
   "execution_count": 21,
   "id": "6ca21935",
   "metadata": {},
   "outputs": [
    {
     "name": "stderr",
     "output_type": "stream",
     "text": [
      "C:\\Users\\gacece\\AppData\\Roaming\\Python\\Python37\\site-packages\\stable_baselines3\\common\\vec_env\\patch_gym.py:50: UserWarning: You provided an OpenAI Gym environment. We strongly recommend transitioning to Gymnasium environments. Stable-Baselines3 is automatically wrapping your environments in a compatibility layer, which could potentially cause issues.\n",
      "  \"You provided an OpenAI Gym environment. \"\n"
     ]
    },
    {
     "data": {
      "text/plain": [
       "<stable_baselines3.ppo.ppo.PPO at 0x22c25c9da48>"
      ]
     },
     "execution_count": 21,
     "metadata": {},
     "output_type": "execute_result"
    }
   ],
   "source": [
    "agent = PPO('MlpPolicy', env)\n",
    "agent.learn(total_timesteps=env.time_steps*1)"
   ]
  },
  {
   "cell_type": "code",
   "execution_count": null,
   "id": "c0de5669",
   "metadata": {},
   "outputs": [],
   "source": [
    "agent.save(\"models/SubmissionRewardPPO/SacModel_1epoch\")"
   ]
  },
  {
   "cell_type": "code",
   "execution_count": null,
   "id": "d4dd1a6d",
   "metadata": {},
   "outputs": [],
   "source": [
    "agent = PPO('MlpPolicy', env)\n",
    "agent.load(\"models/SubmissionRewardPPO/SacModel_1epoch\")"
   ]
  },
  {
   "cell_type": "markdown",
   "id": "1e25651d",
   "metadata": {},
   "source": [
    "# Real Trainning"
   ]
  },
  {
   "cell_type": "code",
   "execution_count": null,
   "id": "94179c82",
   "metadata": {},
   "outputs": [],
   "source": [
    "agent = PPO('MlpPolicy', env)"
   ]
  },
  {
   "cell_type": "code",
   "execution_count": null,
   "id": "21a6c76d",
   "metadata": {},
   "outputs": [],
   "source": [
    "#agent.load(\"models/ComfortReward/SacModel_38epoch\")\n",
    "\n",
    "for epochTrains in tqdm(range(40,80)):#changer le début du range si reprise d'entraienement\n",
    "    agent.learn(total_timesteps=env.time_steps*2)\n",
    "    agent.save(\"models/ComfortReward/SacModel_{}epoch\".format(epochTrains*2))"
   ]
  },
  {
   "cell_type": "code",
   "execution_count": null,
   "id": "62201b11",
   "metadata": {},
   "outputs": [],
   "source": [
    "PathSave = \"models/ComfortReward/\"\n",
    "trajectories_Full = []\n",
    "episode_metrics = []\n",
    "ind = 0\n",
    "\n",
    "for model in tqdm(os.listdir(PathSave)):\n",
    "    agent = PPO('MlpPolicy', env)\n",
    "    if(model[:3]  == \"Sac\") :\n",
    "        agent.load(PathSave+model[:-4])\n",
    "        trajectories_Full.append([])\n",
    "        observations = env.reset()\n",
    "        agent_time_elapsed = 0\n",
    "\n",
    "        step_start = time.perf_counter()\n",
    "        actions = agent.predict(observations)\n",
    "        agent_time_elapsed += time.perf_counter() - step_start\n",
    "\n",
    "        episodes_completed = 0\n",
    "        num_steps = 0\n",
    "        interrupted = False\n",
    "\n",
    "        while True:\n",
    "            observations, rewards, done, _ = env.step(actions[0])\n",
    "            if not done:\n",
    "                step_start = time.perf_counter()\n",
    "                actions = agent.predict(observations)\n",
    "\n",
    "                agent_time_elapsed += time.perf_counter() - step_start\n",
    "                trajectories_Full[ind].append([observations.tolist(), actions[0], rewards])\n",
    "            else:\n",
    "                episodes_completed += 1\n",
    "                metrics_df = env.evaluate_citylearn_challenge()\n",
    "                episode_metrics.append(metrics_df)\n",
    "                #print(\n",
    "                    #f\"Episode complete: {episodes_completed} | Latest episode metrics: {metrics_df}\"\n",
    "                #)\n",
    "\n",
    "                # Optional: Uncomment line below to update power outage random seed\n",
    "                # from what was initially defined in schema\n",
    "                env = update_power_outage_random_seed(env, 90000)\n",
    "\n",
    "                observations = env.reset()\n",
    "\n",
    "                step_start = time.perf_counter()\n",
    "                actions = agent.predict(observations)\n",
    "                agent_time_elapsed += time.perf_counter() - step_start\n",
    "\n",
    "            num_steps += 1\n",
    "\n",
    "            if episodes_completed >= 1:\n",
    "                break\n",
    "\n",
    "        ind += 1"
   ]
  },
  {
   "cell_type": "code",
   "execution_count": null,
   "id": "90ec416c",
   "metadata": {},
   "outputs": [],
   "source": [
    "for i [0,100]:\n",
    "    s = env.reset()\n",
    "    a = agent.predict(s)\n",
    "    MS,N,don = env.step(a)"
   ]
  },
  {
   "cell_type": "markdown",
   "id": "a7795ccc",
   "metadata": {},
   "source": [
    "# trajectoire "
   ]
  },
  {
   "cell_type": "code",
   "execution_count": null,
   "id": "6ccab7ac",
   "metadata": {},
   "outputs": [],
   "source": [
    "rewardMean = []\n",
    "ind = 0\n",
    "for trajectoire in trajectories_Full:\n",
    "    rewardMean.append(0)\n",
    "    for step in trajectoire:\n",
    "        rewardMean[ind] += step[2]\n",
    "    rewardMean[ind] /= len(trajectoire)\n",
    "    ind+=1"
   ]
  },
  {
   "cell_type": "code",
   "execution_count": null,
   "id": "aad83002",
   "metadata": {},
   "outputs": [],
   "source": [
    "plt.clf()\n",
    "plt.plot([k for k in range(len(trajectories_Full))], rewardMean, color=\"r\")\n",
    "plt.savefig(PathSave+\"RewardMeanPerEpisode\")"
   ]
  },
  {
   "cell_type": "code",
   "execution_count": null,
   "id": "e8810939",
   "metadata": {},
   "outputs": [],
   "source": [
    "name = \"trajectories_train_1_eval_1_reward_test3\"\n",
    "\n",
    "with open(\"trajectories/\" + name + \".csv\", \"w\", newline='') as fichier:\n",
    "    writer = csv.writer(fichier)\n",
    "    writer.writerow([\"observations\", \"actions\", \"rewards\"])\n",
    "    for i in range(len(trajectories)):\n",
    "        writer.writerow(trajectories[i])"
   ]
  },
  {
   "cell_type": "markdown",
   "id": "1af2a243",
   "metadata": {},
   "source": [
    "# Custom Reward Function"
   ]
  },
  {
   "cell_type": "code",
   "execution_count": null,
   "id": "bf628a86",
   "metadata": {},
   "outputs": [],
   "source": []
  },
  {
   "cell_type": "markdown",
   "id": "38cad81b",
   "metadata": {},
   "source": [
    "\n",
    "\n",
    "\n",
    "\n",
    "# KPI\n",
    "\n",
    "\n",
    "\n",
    "\n"
   ]
  },
  {
   "cell_type": "code",
   "execution_count": 26,
   "id": "9b3f7bf6",
   "metadata": {},
   "outputs": [
    {
     "data": {
      "text/plain": [
       "<stable_baselines3.ppo.ppo.PPO at 0x22c288134c8>"
      ]
     },
     "execution_count": 26,
     "metadata": {},
     "output_type": "execute_result"
    }
   ],
   "source": [
    "model = PPO('MlpPolicy',env)\n",
    "model.learn(total_timesteps=env.time_steps*2)"
   ]
  },
  {
   "cell_type": "code",
   "execution_count": 27,
   "id": "b34670f0",
   "metadata": {},
   "outputs": [],
   "source": [
    "observations = env.reset()"
   ]
  },
  {
   "cell_type": "code",
   "execution_count": 29,
   "id": "d6c789c5",
   "metadata": {},
   "outputs": [],
   "source": [
    "while not env.done:\n",
    "    actions, _ = model.predict(observations, deterministic=True)\n",
    "    observations, _, _, _ = env.step(actions)"
   ]
  },
  {
   "cell_type": "code",
   "execution_count": 63,
   "id": "46e18f44",
   "metadata": {},
   "outputs": [
    {
     "data": {
      "text/html": [
       "<div>\n",
       "<style scoped>\n",
       "    .dataframe tbody tr th:only-of-type {\n",
       "        vertical-align: middle;\n",
       "    }\n",
       "\n",
       "    .dataframe tbody tr th {\n",
       "        vertical-align: top;\n",
       "    }\n",
       "\n",
       "    .dataframe thead th {\n",
       "        text-align: right;\n",
       "    }\n",
       "</style>\n",
       "<table border=\"1\" class=\"dataframe\">\n",
       "  <thead>\n",
       "    <tr style=\"text-align: right;\">\n",
       "      <th>name</th>\n",
       "      <th>Building_1</th>\n",
       "      <th>Building_2</th>\n",
       "      <th>Building_3</th>\n",
       "      <th>District</th>\n",
       "    </tr>\n",
       "    <tr>\n",
       "      <th>cost_function</th>\n",
       "      <th></th>\n",
       "      <th></th>\n",
       "      <th></th>\n",
       "      <th></th>\n",
       "    </tr>\n",
       "  </thead>\n",
       "  <tbody>\n",
       "    <tr>\n",
       "      <th>annual_normalized_unserved_energy_total</th>\n",
       "      <td>0.015386</td>\n",
       "      <td>0.011345</td>\n",
       "      <td>0.013734</td>\n",
       "      <td>0.013488</td>\n",
       "    </tr>\n",
       "    <tr>\n",
       "      <th>annual_peak_average</th>\n",
       "      <td>NaN</td>\n",
       "      <td>NaN</td>\n",
       "      <td>NaN</td>\n",
       "      <td>0.833569</td>\n",
       "    </tr>\n",
       "    <tr>\n",
       "      <th>carbon_emissions_total</th>\n",
       "      <td>0.388424</td>\n",
       "      <td>0.349106</td>\n",
       "      <td>0.483511</td>\n",
       "      <td>0.407014</td>\n",
       "    </tr>\n",
       "    <tr>\n",
       "      <th>cost_total</th>\n",
       "      <td>0.367213</td>\n",
       "      <td>0.324821</td>\n",
       "      <td>0.453112</td>\n",
       "      <td>0.381715</td>\n",
       "    </tr>\n",
       "    <tr>\n",
       "      <th>daily_one_minus_load_factor_average</th>\n",
       "      <td>NaN</td>\n",
       "      <td>NaN</td>\n",
       "      <td>NaN</td>\n",
       "      <td>1.311379</td>\n",
       "    </tr>\n",
       "    <tr>\n",
       "      <th>daily_peak_average</th>\n",
       "      <td>NaN</td>\n",
       "      <td>NaN</td>\n",
       "      <td>NaN</td>\n",
       "      <td>0.682663</td>\n",
       "    </tr>\n",
       "    <tr>\n",
       "      <th>discomfort_delta_average</th>\n",
       "      <td>9.554476</td>\n",
       "      <td>7.219607</td>\n",
       "      <td>8.290310</td>\n",
       "      <td>8.354798</td>\n",
       "    </tr>\n",
       "    <tr>\n",
       "      <th>discomfort_delta_maximum</th>\n",
       "      <td>16.838272</td>\n",
       "      <td>14.897806</td>\n",
       "      <td>14.197481</td>\n",
       "      <td>15.311186</td>\n",
       "    </tr>\n",
       "    <tr>\n",
       "      <th>discomfort_delta_minimum</th>\n",
       "      <td>-0.123569</td>\n",
       "      <td>-0.581318</td>\n",
       "      <td>-0.372210</td>\n",
       "      <td>-0.359032</td>\n",
       "    </tr>\n",
       "    <tr>\n",
       "      <th>discomfort_proportion</th>\n",
       "      <td>0.981767</td>\n",
       "      <td>0.977612</td>\n",
       "      <td>0.978369</td>\n",
       "      <td>0.979250</td>\n",
       "    </tr>\n",
       "    <tr>\n",
       "      <th>discomfort_too_cold_proportion</th>\n",
       "      <td>0.000000</td>\n",
       "      <td>0.000000</td>\n",
       "      <td>0.000000</td>\n",
       "      <td>0.000000</td>\n",
       "    </tr>\n",
       "    <tr>\n",
       "      <th>discomfort_too_hot_proportion</th>\n",
       "      <td>0.981767</td>\n",
       "      <td>0.977612</td>\n",
       "      <td>0.978369</td>\n",
       "      <td>0.979250</td>\n",
       "    </tr>\n",
       "    <tr>\n",
       "      <th>electricity_consumption_total</th>\n",
       "      <td>0.392086</td>\n",
       "      <td>0.355929</td>\n",
       "      <td>0.489196</td>\n",
       "      <td>0.412404</td>\n",
       "    </tr>\n",
       "    <tr>\n",
       "      <th>monthly_one_minus_load_factor_average</th>\n",
       "      <td>NaN</td>\n",
       "      <td>NaN</td>\n",
       "      <td>NaN</td>\n",
       "      <td>1.130823</td>\n",
       "    </tr>\n",
       "    <tr>\n",
       "      <th>one_minus_thermal_resilience_proportion</th>\n",
       "      <td>1.000000</td>\n",
       "      <td>1.000000</td>\n",
       "      <td>1.000000</td>\n",
       "      <td>1.000000</td>\n",
       "    </tr>\n",
       "    <tr>\n",
       "      <th>power_outage_normalized_unserved_energy_total</th>\n",
       "      <td>0.579528</td>\n",
       "      <td>0.488515</td>\n",
       "      <td>0.551207</td>\n",
       "      <td>0.539750</td>\n",
       "    </tr>\n",
       "    <tr>\n",
       "      <th>ramping_average</th>\n",
       "      <td>NaN</td>\n",
       "      <td>NaN</td>\n",
       "      <td>NaN</td>\n",
       "      <td>0.884492</td>\n",
       "    </tr>\n",
       "    <tr>\n",
       "      <th>zero_net_energy</th>\n",
       "      <td>0.274863</td>\n",
       "      <td>0.326775</td>\n",
       "      <td>0.430207</td>\n",
       "      <td>0.343948</td>\n",
       "    </tr>\n",
       "  </tbody>\n",
       "</table>\n",
       "</div>"
      ],
      "text/plain": [
       "name                                           Building_1  Building_2  \\\n",
       "cost_function                                                           \n",
       "annual_normalized_unserved_energy_total          0.015386    0.011345   \n",
       "annual_peak_average                                   NaN         NaN   \n",
       "carbon_emissions_total                           0.388424    0.349106   \n",
       "cost_total                                       0.367213    0.324821   \n",
       "daily_one_minus_load_factor_average                   NaN         NaN   \n",
       "daily_peak_average                                    NaN         NaN   \n",
       "discomfort_delta_average                         9.554476    7.219607   \n",
       "discomfort_delta_maximum                        16.838272   14.897806   \n",
       "discomfort_delta_minimum                        -0.123569   -0.581318   \n",
       "discomfort_proportion                            0.981767    0.977612   \n",
       "discomfort_too_cold_proportion                   0.000000    0.000000   \n",
       "discomfort_too_hot_proportion                    0.981767    0.977612   \n",
       "electricity_consumption_total                    0.392086    0.355929   \n",
       "monthly_one_minus_load_factor_average                 NaN         NaN   \n",
       "one_minus_thermal_resilience_proportion          1.000000    1.000000   \n",
       "power_outage_normalized_unserved_energy_total    0.579528    0.488515   \n",
       "ramping_average                                       NaN         NaN   \n",
       "zero_net_energy                                  0.274863    0.326775   \n",
       "\n",
       "name                                           Building_3   District  \n",
       "cost_function                                                         \n",
       "annual_normalized_unserved_energy_total          0.013734   0.013488  \n",
       "annual_peak_average                                   NaN   0.833569  \n",
       "carbon_emissions_total                           0.483511   0.407014  \n",
       "cost_total                                       0.453112   0.381715  \n",
       "daily_one_minus_load_factor_average                   NaN   1.311379  \n",
       "daily_peak_average                                    NaN   0.682663  \n",
       "discomfort_delta_average                         8.290310   8.354798  \n",
       "discomfort_delta_maximum                        14.197481  15.311186  \n",
       "discomfort_delta_minimum                        -0.372210  -0.359032  \n",
       "discomfort_proportion                            0.978369   0.979250  \n",
       "discomfort_too_cold_proportion                   0.000000   0.000000  \n",
       "discomfort_too_hot_proportion                    0.978369   0.979250  \n",
       "electricity_consumption_total                    0.489196   0.412404  \n",
       "monthly_one_minus_load_factor_average                 NaN   1.130823  \n",
       "one_minus_thermal_resilience_proportion          1.000000   1.000000  \n",
       "power_outage_normalized_unserved_energy_total    0.551207   0.539750  \n",
       "ramping_average                                       NaN   0.884492  \n",
       "zero_net_energy                                  0.430207   0.343948  "
      ]
     },
     "metadata": {},
     "output_type": "display_data"
    }
   ],
   "source": [
    "kpis = env.evaluate()\n",
    "kpis = kpis.pivot(index='cost_function',columns='name',values='value')\n",
    "display(kpis)"
   ]
  },
  {
   "cell_type": "code",
   "execution_count": null,
   "id": "c92c0c5a",
   "metadata": {},
   "outputs": [],
   "source": [
    "kpis2 = kpis2.pivot(index=)"
   ]
  },
  {
   "cell_type": "code",
   "execution_count": 31,
   "id": "92c96a16",
   "metadata": {},
   "outputs": [
    {
     "data": {
      "text/plain": [
       "720"
      ]
     },
     "execution_count": 31,
     "metadata": {},
     "output_type": "execute_result"
    }
   ],
   "source": [
    "env.time_steps"
   ]
  },
  {
   "cell_type": "code",
   "execution_count": 32,
   "id": "37a228b7",
   "metadata": {},
   "outputs": [],
   "source": [
    "kpi_names = [ 'electricity_consumption', 'cost', 'carbon_emissions', 'average_daily_peak', 'ramping', '1 - load_factor']"
   ]
  },
  {
   "cell_type": "code",
   "execution_count": 33,
   "id": "b75ae95c",
   "metadata": {},
   "outputs": [],
   "source": [
    "import pandas as pd"
   ]
  },
  {
   "cell_type": "code",
   "execution_count": 64,
   "id": "4f6ceb33",
   "metadata": {},
   "outputs": [],
   "source": [
    "def get_kpis(env: CityLearnEnv) -> pd.DataFrame:\n",
    "    \"\"\"Returns evaluation KPIs.\n",
    "\n",
    "    Electricity consumption, cost and carbon emissions KPIs are provided\n",
    "    at the building-level and average district-level. Average daily peak,\n",
    "    ramping and (1 - load factor) KPIs are provided at the district level.\n",
    "\n",
    "    Parameters\n",
    "    ----------\n",
    "    env: CityLearnEnv\n",
    "        CityLearn environment instance.\n",
    "\n",
    "    Returns\n",
    "    -------\n",
    "    kpis: pd.DataFrame\n",
    "        KPI table.\n",
    "    \"\"\"\n",
    "\n",
    "    kpis = env.evaluate()\n",
    "\n",
    "    # names of KPIs to retrieve from evaluate function\n",
    "    kpi_names = [\n",
    "        'electricity_consumption_total', 'cost_total', 'carbon_emissions_total',\n",
    "        'daily_peak_average', 'ramping_average', 'daily_one_minus_load_factor_average',\n",
    "        'one_minus_thermal_resilience_proportion','power_outage_normalized_unserved_energy_total',\n",
    "        'annual_peak_average'\n",
    "    ]\n",
    "    kpis = kpis[\n",
    "        (kpis['cost_function'].isin(kpi_names))\n",
    "    ].dropna()\n",
    "\n",
    "#     # round up the values to 3 decimal places for readability\n",
    "#     kpis['value'] = kpis['value'].round(3)\n",
    "\n",
    "    kpis = kpis.pivot(index='cost_function',columns='name',values='value')\n",
    "\n",
    "    # rename the column that defines the KPIs\n",
    "    kpis = kpis.rename(columns={'cost_function': 'kpi'})\n",
    "    \n",
    "    \n",
    "\n",
    "    return kpis"
   ]
  },
  {
   "cell_type": "code",
   "execution_count": 65,
   "id": "8c6ca3d7",
   "metadata": {},
   "outputs": [],
   "source": [
    "kpis_pd = get_kpis(env)"
   ]
  },
  {
   "cell_type": "code",
   "execution_count": 66,
   "id": "021a6057",
   "metadata": {},
   "outputs": [
    {
     "data": {
      "text/html": [
       "<div>\n",
       "<style scoped>\n",
       "    .dataframe tbody tr th:only-of-type {\n",
       "        vertical-align: middle;\n",
       "    }\n",
       "\n",
       "    .dataframe tbody tr th {\n",
       "        vertical-align: top;\n",
       "    }\n",
       "\n",
       "    .dataframe thead th {\n",
       "        text-align: right;\n",
       "    }\n",
       "</style>\n",
       "<table border=\"1\" class=\"dataframe\">\n",
       "  <thead>\n",
       "    <tr style=\"text-align: right;\">\n",
       "      <th>name</th>\n",
       "      <th>Building_1</th>\n",
       "      <th>Building_2</th>\n",
       "      <th>Building_3</th>\n",
       "      <th>District</th>\n",
       "    </tr>\n",
       "    <tr>\n",
       "      <th>cost_function</th>\n",
       "      <th></th>\n",
       "      <th></th>\n",
       "      <th></th>\n",
       "      <th></th>\n",
       "    </tr>\n",
       "  </thead>\n",
       "  <tbody>\n",
       "    <tr>\n",
       "      <th>annual_peak_average</th>\n",
       "      <td>NaN</td>\n",
       "      <td>NaN</td>\n",
       "      <td>NaN</td>\n",
       "      <td>0.833569</td>\n",
       "    </tr>\n",
       "    <tr>\n",
       "      <th>carbon_emissions_total</th>\n",
       "      <td>0.388424</td>\n",
       "      <td>0.349106</td>\n",
       "      <td>0.483511</td>\n",
       "      <td>0.407014</td>\n",
       "    </tr>\n",
       "    <tr>\n",
       "      <th>cost_total</th>\n",
       "      <td>0.367213</td>\n",
       "      <td>0.324821</td>\n",
       "      <td>0.453112</td>\n",
       "      <td>0.381715</td>\n",
       "    </tr>\n",
       "    <tr>\n",
       "      <th>daily_one_minus_load_factor_average</th>\n",
       "      <td>NaN</td>\n",
       "      <td>NaN</td>\n",
       "      <td>NaN</td>\n",
       "      <td>1.311379</td>\n",
       "    </tr>\n",
       "    <tr>\n",
       "      <th>daily_peak_average</th>\n",
       "      <td>NaN</td>\n",
       "      <td>NaN</td>\n",
       "      <td>NaN</td>\n",
       "      <td>0.682663</td>\n",
       "    </tr>\n",
       "    <tr>\n",
       "      <th>electricity_consumption_total</th>\n",
       "      <td>0.392086</td>\n",
       "      <td>0.355929</td>\n",
       "      <td>0.489196</td>\n",
       "      <td>0.412404</td>\n",
       "    </tr>\n",
       "    <tr>\n",
       "      <th>one_minus_thermal_resilience_proportion</th>\n",
       "      <td>1.000000</td>\n",
       "      <td>1.000000</td>\n",
       "      <td>1.000000</td>\n",
       "      <td>1.000000</td>\n",
       "    </tr>\n",
       "    <tr>\n",
       "      <th>power_outage_normalized_unserved_energy_total</th>\n",
       "      <td>0.579528</td>\n",
       "      <td>0.488515</td>\n",
       "      <td>0.551207</td>\n",
       "      <td>0.539750</td>\n",
       "    </tr>\n",
       "    <tr>\n",
       "      <th>ramping_average</th>\n",
       "      <td>NaN</td>\n",
       "      <td>NaN</td>\n",
       "      <td>NaN</td>\n",
       "      <td>0.884492</td>\n",
       "    </tr>\n",
       "  </tbody>\n",
       "</table>\n",
       "</div>"
      ],
      "text/plain": [
       "name                                           Building_1  Building_2  \\\n",
       "cost_function                                                           \n",
       "annual_peak_average                                   NaN         NaN   \n",
       "carbon_emissions_total                           0.388424    0.349106   \n",
       "cost_total                                       0.367213    0.324821   \n",
       "daily_one_minus_load_factor_average                   NaN         NaN   \n",
       "daily_peak_average                                    NaN         NaN   \n",
       "electricity_consumption_total                    0.392086    0.355929   \n",
       "one_minus_thermal_resilience_proportion          1.000000    1.000000   \n",
       "power_outage_normalized_unserved_energy_total    0.579528    0.488515   \n",
       "ramping_average                                       NaN         NaN   \n",
       "\n",
       "name                                           Building_3  District  \n",
       "cost_function                                                        \n",
       "annual_peak_average                                   NaN  0.833569  \n",
       "carbon_emissions_total                           0.483511  0.407014  \n",
       "cost_total                                       0.453112  0.381715  \n",
       "daily_one_minus_load_factor_average                   NaN  1.311379  \n",
       "daily_peak_average                                    NaN  0.682663  \n",
       "electricity_consumption_total                    0.489196  0.412404  \n",
       "one_minus_thermal_resilience_proportion          1.000000  1.000000  \n",
       "power_outage_normalized_unserved_energy_total    0.551207  0.539750  \n",
       "ramping_average                                       NaN  0.884492  "
      ]
     },
     "metadata": {},
     "output_type": "display_data"
    }
   ],
   "source": [
    "display(kpis_pd)"
   ]
  },
  {
   "cell_type": "code",
   "execution_count": 36,
   "id": "dd299740",
   "metadata": {},
   "outputs": [],
   "source": [
    "from typing import List, Mapping, Tuple"
   ]
  },
  {
   "cell_type": "code",
   "execution_count": 37,
   "id": "6bcbfaca",
   "metadata": {},
   "outputs": [],
   "source": [
    "def plot_building_kpis(envs: Mapping[str, CityLearnEnv]) -> plt.Figure:\n",
    "    \"\"\"Plots electricity consumption, cost and carbon emissions\n",
    "    at the building-level for different control agents in bar charts.\n",
    "\n",
    "    Parameters\n",
    "    ----------\n",
    "    envs: Mapping[str, CityLearnEnv]\n",
    "        Mapping of user-defined control agent names to environments\n",
    "        the agents have been used to control.\n",
    "\n",
    "    Returns\n",
    "    -------\n",
    "    fig: plt.Figure\n",
    "        Figure containing plotted axes.\n",
    "    \"\"\"\n",
    "\n",
    "    kpis_list = []\n",
    "\n",
    "    for k, v in envs.items():\n",
    "        kpis = get_kpis(v)\n",
    "        kpis = kpis[kpis['level']=='building'].copy()\n",
    "        kpis['building_id'] = kpis['name'].str.split('_', expand=True)[1]\n",
    "        kpis['building_id'] = kpis['building_id'].astype(int).astype(str)\n",
    "        kpis['env_id'] = k\n",
    "        kpis_list.append(kpis)\n",
    "\n",
    "    kpis = pd.concat(kpis_list, ignore_index=True, sort=False)\n",
    "    kpi_names= kpis['kpi'].unique()\n",
    "    column_count_limit = 3\n",
    "    row_count = math.ceil(len(kpi_names)/column_count_limit)\n",
    "    column_count = min(column_count_limit, len(kpi_names))\n",
    "    building_count = len(kpis['name'].unique())\n",
    "    env_count = len(envs)\n",
    "    figsize = (3.0*column_count, 0.3*env_count*building_count*row_count)\n",
    "    fig, _ = plt.subplots(\n",
    "        row_count, column_count, figsize=figsize, sharey=True\n",
    "    )\n",
    "\n",
    "    for i, (ax, (k, k_data)) in enumerate(zip(fig.axes, kpis.groupby('kpi'))):\n",
    "        sns.barplot(x='value', y='name', data=k_data, hue='env_id', ax=ax)\n",
    "        ax.axvline(1.0, color='black', linestyle='--', label='Baseline')\n",
    "        ax.set_xlabel(None)\n",
    "        ax.set_ylabel(None)\n",
    "        ax.set_title(k)\n",
    "\n",
    "        if i == len(kpi_names) - 1:\n",
    "            ax.legend(\n",
    "                loc='upper left', bbox_to_anchor=(1.3, 1.0), framealpha=0.0\n",
    "            )\n",
    "        else:\n",
    "            ax.legend().set_visible(False)\n",
    "\n",
    "        for s in ['right','top']:\n",
    "            ax.spines[s].set_visible(False)\n",
    "\n",
    "        for p in ax.patches:\n",
    "            ax.text(\n",
    "                p.get_x() + p.get_width(),\n",
    "                p.get_y() + p.get_height()/2.0,\n",
    "                p.get_width(), ha='left', va='center'\n",
    "            )\n",
    "\n",
    "    plt.tight_layout()\n",
    "    return fig"
   ]
  },
  {
   "cell_type": "code",
   "execution_count": 67,
   "id": "1a55ce26",
   "metadata": {},
   "outputs": [
    {
     "ename": "AttributeError",
     "evalue": "'CityLearnEnv' object has no attribute 'items'",
     "output_type": "error",
     "traceback": [
      "\u001b[1;31m---------------------------------------------------------------------------\u001b[0m",
      "\u001b[1;31mAttributeError\u001b[0m                            Traceback (most recent call last)",
      "\u001b[1;32m~\\AppData\\Local\\Temp\\ipykernel_26868\\3334394810.py\u001b[0m in \u001b[0;36m<module>\u001b[1;34m\u001b[0m\n\u001b[1;32m----> 1\u001b[1;33m \u001b[0mplot_building_kpis\u001b[0m\u001b[1;33m(\u001b[0m\u001b[0menv\u001b[0m\u001b[1;33m)\u001b[0m\u001b[1;33m\u001b[0m\u001b[1;33m\u001b[0m\u001b[0m\n\u001b[0m",
      "\u001b[1;32m~\\AppData\\Local\\Temp\\ipykernel_26868\\1955179694.py\u001b[0m in \u001b[0;36mplot_building_kpis\u001b[1;34m(envs)\u001b[0m\n\u001b[0;32m     17\u001b[0m     \u001b[0mkpis_list\u001b[0m \u001b[1;33m=\u001b[0m \u001b[1;33m[\u001b[0m\u001b[1;33m]\u001b[0m\u001b[1;33m\u001b[0m\u001b[1;33m\u001b[0m\u001b[0m\n\u001b[0;32m     18\u001b[0m \u001b[1;33m\u001b[0m\u001b[0m\n\u001b[1;32m---> 19\u001b[1;33m     \u001b[1;32mfor\u001b[0m \u001b[0mk\u001b[0m\u001b[1;33m,\u001b[0m \u001b[0mv\u001b[0m \u001b[1;32min\u001b[0m \u001b[0menvs\u001b[0m\u001b[1;33m.\u001b[0m\u001b[0mitems\u001b[0m\u001b[1;33m(\u001b[0m\u001b[1;33m)\u001b[0m\u001b[1;33m:\u001b[0m\u001b[1;33m\u001b[0m\u001b[1;33m\u001b[0m\u001b[0m\n\u001b[0m\u001b[0;32m     20\u001b[0m         \u001b[0mkpis\u001b[0m \u001b[1;33m=\u001b[0m \u001b[0mget_kpis\u001b[0m\u001b[1;33m(\u001b[0m\u001b[0mv\u001b[0m\u001b[1;33m)\u001b[0m\u001b[1;33m\u001b[0m\u001b[1;33m\u001b[0m\u001b[0m\n\u001b[0;32m     21\u001b[0m         \u001b[0mkpis\u001b[0m \u001b[1;33m=\u001b[0m \u001b[0mkpis\u001b[0m\u001b[1;33m[\u001b[0m\u001b[0mkpis\u001b[0m\u001b[1;33m[\u001b[0m\u001b[1;34m'level'\u001b[0m\u001b[1;33m]\u001b[0m\u001b[1;33m==\u001b[0m\u001b[1;34m'building'\u001b[0m\u001b[1;33m]\u001b[0m\u001b[1;33m.\u001b[0m\u001b[0mcopy\u001b[0m\u001b[1;33m(\u001b[0m\u001b[1;33m)\u001b[0m\u001b[1;33m\u001b[0m\u001b[1;33m\u001b[0m\u001b[0m\n",
      "\u001b[1;32m~\\AppData\\Roaming\\Python\\Python37\\site-packages\\gym\\core.py\u001b[0m in \u001b[0;36m__getattr__\u001b[1;34m(self, name)\u001b[0m\n\u001b[0;32m    236\u001b[0m                 \u001b[1;34m\"attempted to get missing private attribute '{}'\"\u001b[0m\u001b[1;33m.\u001b[0m\u001b[0mformat\u001b[0m\u001b[1;33m(\u001b[0m\u001b[0mname\u001b[0m\u001b[1;33m)\u001b[0m\u001b[1;33m\u001b[0m\u001b[1;33m\u001b[0m\u001b[0m\n\u001b[0;32m    237\u001b[0m             )\n\u001b[1;32m--> 238\u001b[1;33m         \u001b[1;32mreturn\u001b[0m \u001b[0mgetattr\u001b[0m\u001b[1;33m(\u001b[0m\u001b[0mself\u001b[0m\u001b[1;33m.\u001b[0m\u001b[0menv\u001b[0m\u001b[1;33m,\u001b[0m \u001b[0mname\u001b[0m\u001b[1;33m)\u001b[0m\u001b[1;33m\u001b[0m\u001b[1;33m\u001b[0m\u001b[0m\n\u001b[0m\u001b[0;32m    239\u001b[0m \u001b[1;33m\u001b[0m\u001b[0m\n\u001b[0;32m    240\u001b[0m     \u001b[1;33m@\u001b[0m\u001b[0mproperty\u001b[0m\u001b[1;33m\u001b[0m\u001b[1;33m\u001b[0m\u001b[0m\n",
      "\u001b[1;32m~\\AppData\\Roaming\\Python\\Python37\\site-packages\\gym\\core.py\u001b[0m in \u001b[0;36m__getattr__\u001b[1;34m(self, name)\u001b[0m\n\u001b[0;32m    236\u001b[0m                 \u001b[1;34m\"attempted to get missing private attribute '{}'\"\u001b[0m\u001b[1;33m.\u001b[0m\u001b[0mformat\u001b[0m\u001b[1;33m(\u001b[0m\u001b[0mname\u001b[0m\u001b[1;33m)\u001b[0m\u001b[1;33m\u001b[0m\u001b[1;33m\u001b[0m\u001b[0m\n\u001b[0;32m    237\u001b[0m             )\n\u001b[1;32m--> 238\u001b[1;33m         \u001b[1;32mreturn\u001b[0m \u001b[0mgetattr\u001b[0m\u001b[1;33m(\u001b[0m\u001b[0mself\u001b[0m\u001b[1;33m.\u001b[0m\u001b[0menv\u001b[0m\u001b[1;33m,\u001b[0m \u001b[0mname\u001b[0m\u001b[1;33m)\u001b[0m\u001b[1;33m\u001b[0m\u001b[1;33m\u001b[0m\u001b[0m\n\u001b[0m\u001b[0;32m    239\u001b[0m \u001b[1;33m\u001b[0m\u001b[0m\n\u001b[0;32m    240\u001b[0m     \u001b[1;33m@\u001b[0m\u001b[0mproperty\u001b[0m\u001b[1;33m\u001b[0m\u001b[1;33m\u001b[0m\u001b[0m\n",
      "\u001b[1;32m~\\AppData\\Roaming\\Python\\Python37\\site-packages\\gym\\core.py\u001b[0m in \u001b[0;36m__getattr__\u001b[1;34m(self, name)\u001b[0m\n\u001b[0;32m    236\u001b[0m                 \u001b[1;34m\"attempted to get missing private attribute '{}'\"\u001b[0m\u001b[1;33m.\u001b[0m\u001b[0mformat\u001b[0m\u001b[1;33m(\u001b[0m\u001b[0mname\u001b[0m\u001b[1;33m)\u001b[0m\u001b[1;33m\u001b[0m\u001b[1;33m\u001b[0m\u001b[0m\n\u001b[0;32m    237\u001b[0m             )\n\u001b[1;32m--> 238\u001b[1;33m         \u001b[1;32mreturn\u001b[0m \u001b[0mgetattr\u001b[0m\u001b[1;33m(\u001b[0m\u001b[0mself\u001b[0m\u001b[1;33m.\u001b[0m\u001b[0menv\u001b[0m\u001b[1;33m,\u001b[0m \u001b[0mname\u001b[0m\u001b[1;33m)\u001b[0m\u001b[1;33m\u001b[0m\u001b[1;33m\u001b[0m\u001b[0m\n\u001b[0m\u001b[0;32m    239\u001b[0m \u001b[1;33m\u001b[0m\u001b[0m\n\u001b[0;32m    240\u001b[0m     \u001b[1;33m@\u001b[0m\u001b[0mproperty\u001b[0m\u001b[1;33m\u001b[0m\u001b[1;33m\u001b[0m\u001b[0m\n",
      "\u001b[1;32m~\\AppData\\Roaming\\Python\\Python37\\site-packages\\gym\\core.py\u001b[0m in \u001b[0;36m__getattr__\u001b[1;34m(self, name)\u001b[0m\n\u001b[0;32m    236\u001b[0m                 \u001b[1;34m\"attempted to get missing private attribute '{}'\"\u001b[0m\u001b[1;33m.\u001b[0m\u001b[0mformat\u001b[0m\u001b[1;33m(\u001b[0m\u001b[0mname\u001b[0m\u001b[1;33m)\u001b[0m\u001b[1;33m\u001b[0m\u001b[1;33m\u001b[0m\u001b[0m\n\u001b[0;32m    237\u001b[0m             )\n\u001b[1;32m--> 238\u001b[1;33m         \u001b[1;32mreturn\u001b[0m \u001b[0mgetattr\u001b[0m\u001b[1;33m(\u001b[0m\u001b[0mself\u001b[0m\u001b[1;33m.\u001b[0m\u001b[0menv\u001b[0m\u001b[1;33m,\u001b[0m \u001b[0mname\u001b[0m\u001b[1;33m)\u001b[0m\u001b[1;33m\u001b[0m\u001b[1;33m\u001b[0m\u001b[0m\n\u001b[0m\u001b[0;32m    239\u001b[0m \u001b[1;33m\u001b[0m\u001b[0m\n\u001b[0;32m    240\u001b[0m     \u001b[1;33m@\u001b[0m\u001b[0mproperty\u001b[0m\u001b[1;33m\u001b[0m\u001b[1;33m\u001b[0m\u001b[0m\n",
      "\u001b[1;32m~\\AppData\\Roaming\\Python\\Python37\\site-packages\\gym\\core.py\u001b[0m in \u001b[0;36m__getattr__\u001b[1;34m(self, name)\u001b[0m\n\u001b[0;32m    236\u001b[0m                 \u001b[1;34m\"attempted to get missing private attribute '{}'\"\u001b[0m\u001b[1;33m.\u001b[0m\u001b[0mformat\u001b[0m\u001b[1;33m(\u001b[0m\u001b[0mname\u001b[0m\u001b[1;33m)\u001b[0m\u001b[1;33m\u001b[0m\u001b[1;33m\u001b[0m\u001b[0m\n\u001b[0;32m    237\u001b[0m             )\n\u001b[1;32m--> 238\u001b[1;33m         \u001b[1;32mreturn\u001b[0m \u001b[0mgetattr\u001b[0m\u001b[1;33m(\u001b[0m\u001b[0mself\u001b[0m\u001b[1;33m.\u001b[0m\u001b[0menv\u001b[0m\u001b[1;33m,\u001b[0m \u001b[0mname\u001b[0m\u001b[1;33m)\u001b[0m\u001b[1;33m\u001b[0m\u001b[1;33m\u001b[0m\u001b[0m\n\u001b[0m\u001b[0;32m    239\u001b[0m \u001b[1;33m\u001b[0m\u001b[0m\n\u001b[0;32m    240\u001b[0m     \u001b[1;33m@\u001b[0m\u001b[0mproperty\u001b[0m\u001b[1;33m\u001b[0m\u001b[1;33m\u001b[0m\u001b[0m\n",
      "\u001b[1;31mAttributeError\u001b[0m: 'CityLearnEnv' object has no attribute 'items'"
     ]
    }
   ],
   "source": [
    "plot_building_kpis(env)"
   ]
  },
  {
   "cell_type": "code",
   "execution_count": 38,
   "id": "9a23eacb",
   "metadata": {},
   "outputs": [],
   "source": [
    "def plot_district_kpis(envs: Mapping[str, CityLearnEnv]) -> plt.Figure:\n",
    "    \"\"\"Plots electricity consumption, cost, carbon emissions,\n",
    "    average daily peak, ramping and (1 - load factor) at the\n",
    "    district-level for different control agents in a bar chart.\n",
    "\n",
    "    Parameters\n",
    "    ----------\n",
    "    envs: Mapping[str, CityLearnEnv]\n",
    "        Mapping of user-defined control agent names to environments\n",
    "        the agents have been used to control.\n",
    "\n",
    "    Returns\n",
    "    -------\n",
    "    fig: plt.Figure\n",
    "        Figure containing plotted axes.\n",
    "    \"\"\"\n",
    "\n",
    "    kpis_list = []\n",
    "\n",
    "    for k, v in envs.items():\n",
    "        kpis = get_kpis(v)\n",
    "        kpis = kpis[kpis['level']=='district'].copy()\n",
    "        kpis['env_id'] = k\n",
    "        kpis_list.append(kpis)\n",
    "\n",
    "    kpis = pd.concat(kpis_list, ignore_index=True, sort=False)\n",
    "    row_count = 1\n",
    "    column_count = 1\n",
    "    env_count = len(envs)\n",
    "    kpi_count = len(kpis['kpi'].unique())\n",
    "    figsize = (6.0*column_count, 0.225*env_count*kpi_count*row_count)\n",
    "    fig, ax = plt.subplots(row_count, column_count, figsize=figsize)\n",
    "    sns.barplot(x='value', y='kpi', data=kpis, hue='env_id', ax=ax)\n",
    "    ax.axvline(1.0, color='black', linestyle='--', label='Baseline')\n",
    "    ax.set_xlabel(None)\n",
    "    ax.set_ylabel(None)\n",
    "\n",
    "    for s in ['right','top']:\n",
    "        ax.spines[s].set_visible(False)\n",
    "\n",
    "    for p in ax.patches:\n",
    "        ax.text(\n",
    "            p.get_x() + p.get_width(),\n",
    "            p.get_y() + p.get_height()/2.0,\n",
    "            p.get_width(), ha='left', va='center'\n",
    "        )\n",
    "\n",
    "    ax.legend(loc='upper left', bbox_to_anchor=(1.3, 1.0), framealpha=0.0)\n",
    "    plt.tight_layout()\n",
    "\n",
    "    return fig"
   ]
  },
  {
   "cell_type": "code",
   "execution_count": 68,
   "id": "63943f83",
   "metadata": {},
   "outputs": [
    {
     "ename": "AttributeError",
     "evalue": "'CityLearnEnv' object has no attribute 'items'",
     "output_type": "error",
     "traceback": [
      "\u001b[1;31m---------------------------------------------------------------------------\u001b[0m",
      "\u001b[1;31mAttributeError\u001b[0m                            Traceback (most recent call last)",
      "\u001b[1;32m~\\AppData\\Local\\Temp\\ipykernel_26868\\88859314.py\u001b[0m in \u001b[0;36m<module>\u001b[1;34m\u001b[0m\n\u001b[1;32m----> 1\u001b[1;33m \u001b[0mplot_district_kpis\u001b[0m\u001b[1;33m(\u001b[0m\u001b[0menv\u001b[0m\u001b[1;33m)\u001b[0m\u001b[1;33m\u001b[0m\u001b[1;33m\u001b[0m\u001b[0m\n\u001b[0m",
      "\u001b[1;32m~\\AppData\\Local\\Temp\\ipykernel_26868\\3228771142.py\u001b[0m in \u001b[0;36mplot_district_kpis\u001b[1;34m(envs)\u001b[0m\n\u001b[0;32m     18\u001b[0m     \u001b[0mkpis_list\u001b[0m \u001b[1;33m=\u001b[0m \u001b[1;33m[\u001b[0m\u001b[1;33m]\u001b[0m\u001b[1;33m\u001b[0m\u001b[1;33m\u001b[0m\u001b[0m\n\u001b[0;32m     19\u001b[0m \u001b[1;33m\u001b[0m\u001b[0m\n\u001b[1;32m---> 20\u001b[1;33m     \u001b[1;32mfor\u001b[0m \u001b[0mk\u001b[0m\u001b[1;33m,\u001b[0m \u001b[0mv\u001b[0m \u001b[1;32min\u001b[0m \u001b[0menvs\u001b[0m\u001b[1;33m.\u001b[0m\u001b[0mitems\u001b[0m\u001b[1;33m(\u001b[0m\u001b[1;33m)\u001b[0m\u001b[1;33m:\u001b[0m\u001b[1;33m\u001b[0m\u001b[1;33m\u001b[0m\u001b[0m\n\u001b[0m\u001b[0;32m     21\u001b[0m         \u001b[0mkpis\u001b[0m \u001b[1;33m=\u001b[0m \u001b[0mget_kpis\u001b[0m\u001b[1;33m(\u001b[0m\u001b[0mv\u001b[0m\u001b[1;33m)\u001b[0m\u001b[1;33m\u001b[0m\u001b[1;33m\u001b[0m\u001b[0m\n\u001b[0;32m     22\u001b[0m         \u001b[0mkpis\u001b[0m \u001b[1;33m=\u001b[0m \u001b[0mkpis\u001b[0m\u001b[1;33m[\u001b[0m\u001b[0mkpis\u001b[0m\u001b[1;33m[\u001b[0m\u001b[1;34m'level'\u001b[0m\u001b[1;33m]\u001b[0m\u001b[1;33m==\u001b[0m\u001b[1;34m'district'\u001b[0m\u001b[1;33m]\u001b[0m\u001b[1;33m.\u001b[0m\u001b[0mcopy\u001b[0m\u001b[1;33m(\u001b[0m\u001b[1;33m)\u001b[0m\u001b[1;33m\u001b[0m\u001b[1;33m\u001b[0m\u001b[0m\n",
      "\u001b[1;32m~\\AppData\\Roaming\\Python\\Python37\\site-packages\\gym\\core.py\u001b[0m in \u001b[0;36m__getattr__\u001b[1;34m(self, name)\u001b[0m\n\u001b[0;32m    236\u001b[0m                 \u001b[1;34m\"attempted to get missing private attribute '{}'\"\u001b[0m\u001b[1;33m.\u001b[0m\u001b[0mformat\u001b[0m\u001b[1;33m(\u001b[0m\u001b[0mname\u001b[0m\u001b[1;33m)\u001b[0m\u001b[1;33m\u001b[0m\u001b[1;33m\u001b[0m\u001b[0m\n\u001b[0;32m    237\u001b[0m             )\n\u001b[1;32m--> 238\u001b[1;33m         \u001b[1;32mreturn\u001b[0m \u001b[0mgetattr\u001b[0m\u001b[1;33m(\u001b[0m\u001b[0mself\u001b[0m\u001b[1;33m.\u001b[0m\u001b[0menv\u001b[0m\u001b[1;33m,\u001b[0m \u001b[0mname\u001b[0m\u001b[1;33m)\u001b[0m\u001b[1;33m\u001b[0m\u001b[1;33m\u001b[0m\u001b[0m\n\u001b[0m\u001b[0;32m    239\u001b[0m \u001b[1;33m\u001b[0m\u001b[0m\n\u001b[0;32m    240\u001b[0m     \u001b[1;33m@\u001b[0m\u001b[0mproperty\u001b[0m\u001b[1;33m\u001b[0m\u001b[1;33m\u001b[0m\u001b[0m\n",
      "\u001b[1;32m~\\AppData\\Roaming\\Python\\Python37\\site-packages\\gym\\core.py\u001b[0m in \u001b[0;36m__getattr__\u001b[1;34m(self, name)\u001b[0m\n\u001b[0;32m    236\u001b[0m                 \u001b[1;34m\"attempted to get missing private attribute '{}'\"\u001b[0m\u001b[1;33m.\u001b[0m\u001b[0mformat\u001b[0m\u001b[1;33m(\u001b[0m\u001b[0mname\u001b[0m\u001b[1;33m)\u001b[0m\u001b[1;33m\u001b[0m\u001b[1;33m\u001b[0m\u001b[0m\n\u001b[0;32m    237\u001b[0m             )\n\u001b[1;32m--> 238\u001b[1;33m         \u001b[1;32mreturn\u001b[0m \u001b[0mgetattr\u001b[0m\u001b[1;33m(\u001b[0m\u001b[0mself\u001b[0m\u001b[1;33m.\u001b[0m\u001b[0menv\u001b[0m\u001b[1;33m,\u001b[0m \u001b[0mname\u001b[0m\u001b[1;33m)\u001b[0m\u001b[1;33m\u001b[0m\u001b[1;33m\u001b[0m\u001b[0m\n\u001b[0m\u001b[0;32m    239\u001b[0m \u001b[1;33m\u001b[0m\u001b[0m\n\u001b[0;32m    240\u001b[0m     \u001b[1;33m@\u001b[0m\u001b[0mproperty\u001b[0m\u001b[1;33m\u001b[0m\u001b[1;33m\u001b[0m\u001b[0m\n",
      "\u001b[1;32m~\\AppData\\Roaming\\Python\\Python37\\site-packages\\gym\\core.py\u001b[0m in \u001b[0;36m__getattr__\u001b[1;34m(self, name)\u001b[0m\n\u001b[0;32m    236\u001b[0m                 \u001b[1;34m\"attempted to get missing private attribute '{}'\"\u001b[0m\u001b[1;33m.\u001b[0m\u001b[0mformat\u001b[0m\u001b[1;33m(\u001b[0m\u001b[0mname\u001b[0m\u001b[1;33m)\u001b[0m\u001b[1;33m\u001b[0m\u001b[1;33m\u001b[0m\u001b[0m\n\u001b[0;32m    237\u001b[0m             )\n\u001b[1;32m--> 238\u001b[1;33m         \u001b[1;32mreturn\u001b[0m \u001b[0mgetattr\u001b[0m\u001b[1;33m(\u001b[0m\u001b[0mself\u001b[0m\u001b[1;33m.\u001b[0m\u001b[0menv\u001b[0m\u001b[1;33m,\u001b[0m \u001b[0mname\u001b[0m\u001b[1;33m)\u001b[0m\u001b[1;33m\u001b[0m\u001b[1;33m\u001b[0m\u001b[0m\n\u001b[0m\u001b[0;32m    239\u001b[0m \u001b[1;33m\u001b[0m\u001b[0m\n\u001b[0;32m    240\u001b[0m     \u001b[1;33m@\u001b[0m\u001b[0mproperty\u001b[0m\u001b[1;33m\u001b[0m\u001b[1;33m\u001b[0m\u001b[0m\n",
      "\u001b[1;32m~\\AppData\\Roaming\\Python\\Python37\\site-packages\\gym\\core.py\u001b[0m in \u001b[0;36m__getattr__\u001b[1;34m(self, name)\u001b[0m\n\u001b[0;32m    236\u001b[0m                 \u001b[1;34m\"attempted to get missing private attribute '{}'\"\u001b[0m\u001b[1;33m.\u001b[0m\u001b[0mformat\u001b[0m\u001b[1;33m(\u001b[0m\u001b[0mname\u001b[0m\u001b[1;33m)\u001b[0m\u001b[1;33m\u001b[0m\u001b[1;33m\u001b[0m\u001b[0m\n\u001b[0;32m    237\u001b[0m             )\n\u001b[1;32m--> 238\u001b[1;33m         \u001b[1;32mreturn\u001b[0m \u001b[0mgetattr\u001b[0m\u001b[1;33m(\u001b[0m\u001b[0mself\u001b[0m\u001b[1;33m.\u001b[0m\u001b[0menv\u001b[0m\u001b[1;33m,\u001b[0m \u001b[0mname\u001b[0m\u001b[1;33m)\u001b[0m\u001b[1;33m\u001b[0m\u001b[1;33m\u001b[0m\u001b[0m\n\u001b[0m\u001b[0;32m    239\u001b[0m \u001b[1;33m\u001b[0m\u001b[0m\n\u001b[0;32m    240\u001b[0m     \u001b[1;33m@\u001b[0m\u001b[0mproperty\u001b[0m\u001b[1;33m\u001b[0m\u001b[1;33m\u001b[0m\u001b[0m\n",
      "\u001b[1;32m~\\AppData\\Roaming\\Python\\Python37\\site-packages\\gym\\core.py\u001b[0m in \u001b[0;36m__getattr__\u001b[1;34m(self, name)\u001b[0m\n\u001b[0;32m    236\u001b[0m                 \u001b[1;34m\"attempted to get missing private attribute '{}'\"\u001b[0m\u001b[1;33m.\u001b[0m\u001b[0mformat\u001b[0m\u001b[1;33m(\u001b[0m\u001b[0mname\u001b[0m\u001b[1;33m)\u001b[0m\u001b[1;33m\u001b[0m\u001b[1;33m\u001b[0m\u001b[0m\n\u001b[0;32m    237\u001b[0m             )\n\u001b[1;32m--> 238\u001b[1;33m         \u001b[1;32mreturn\u001b[0m \u001b[0mgetattr\u001b[0m\u001b[1;33m(\u001b[0m\u001b[0mself\u001b[0m\u001b[1;33m.\u001b[0m\u001b[0menv\u001b[0m\u001b[1;33m,\u001b[0m \u001b[0mname\u001b[0m\u001b[1;33m)\u001b[0m\u001b[1;33m\u001b[0m\u001b[1;33m\u001b[0m\u001b[0m\n\u001b[0m\u001b[0;32m    239\u001b[0m \u001b[1;33m\u001b[0m\u001b[0m\n\u001b[0;32m    240\u001b[0m     \u001b[1;33m@\u001b[0m\u001b[0mproperty\u001b[0m\u001b[1;33m\u001b[0m\u001b[1;33m\u001b[0m\u001b[0m\n",
      "\u001b[1;31mAttributeError\u001b[0m: 'CityLearnEnv' object has no attribute 'items'"
     ]
    }
   ],
   "source": [
    "plot_district_kpis(env)"
   ]
  },
  {
   "cell_type": "code",
   "execution_count": 70,
   "id": "f518ca2d",
   "metadata": {},
   "outputs": [],
   "source": [
    "def plot_building_load_profiles(envs: Mapping[str, CityLearnEnv]) -> plt.Figure:\n",
    "    \"\"\"Plots building-level net electricty consumption profile\n",
    "    for different control agents.\n",
    "\n",
    "    Parameters\n",
    "    ----------\n",
    "    envs: Mapping[str, CityLearnEnv]\n",
    "        Mapping of user-defined control agent names to environments\n",
    "        the agents have been used to control.\n",
    "\n",
    "    Returns\n",
    "    -------\n",
    "    fig: plt.Figure\n",
    "        Figure containing plotted axes.\n",
    "    \"\"\"\n",
    "\n",
    "    building_count = len(list(envs.values())[0].buildings)\n",
    "    column_count_limit = 4\n",
    "    row_count = math.ceil(building_count/column_count_limit)\n",
    "    column_count = min(column_count_limit, building_count)\n",
    "    figsize = (4.0*column_count, 1.75*row_count)\n",
    "    fig, _ = plt.subplots(row_count, column_count, figsize=figsize)\n",
    "\n",
    "    for i, ax in enumerate(fig.axes):\n",
    "        for k, v in envs.items():\n",
    "            y = v.buildings[i].net_electricity_consumption\n",
    "            x = range(len(y))\n",
    "            ax.plot(x, y, label=k)\n",
    "\n",
    "        y = v.buildings[i].net_electricity_consumption_without_storage\n",
    "        ax.plot(x, y, label='Baseline')\n",
    "        ax.set_title(v.buildings[i].name)\n",
    "        ax.set_xlabel('Time step')\n",
    "        ax.set_ylabel('kWh')\n",
    "        ax.xaxis.set_major_locator(ticker.MultipleLocator(24))\n",
    "\n",
    "        if i == building_count - 1:\n",
    "            ax.legend(\n",
    "                loc='upper left', bbox_to_anchor=(1.0, 1.0), framealpha=0.0\n",
    "            )\n",
    "        else:\n",
    "            ax.legend().set_visible(False)\n",
    "\n",
    "\n",
    "    plt.tight_layout()\n",
    "\n",
    "    return fig"
   ]
  },
  {
   "cell_type": "code",
   "execution_count": 71,
   "id": "080ac24d",
   "metadata": {},
   "outputs": [
    {
     "ename": "AttributeError",
     "evalue": "'CityLearnEnv' object has no attribute 'values'",
     "output_type": "error",
     "traceback": [
      "\u001b[1;31m---------------------------------------------------------------------------\u001b[0m",
      "\u001b[1;31mAttributeError\u001b[0m                            Traceback (most recent call last)",
      "\u001b[1;32m~\\AppData\\Local\\Temp\\ipykernel_26868\\2220270456.py\u001b[0m in \u001b[0;36m<module>\u001b[1;34m\u001b[0m\n\u001b[1;32m----> 1\u001b[1;33m \u001b[0mplot_building_load_profiles\u001b[0m\u001b[1;33m(\u001b[0m\u001b[0menv\u001b[0m\u001b[1;33m)\u001b[0m\u001b[1;33m\u001b[0m\u001b[1;33m\u001b[0m\u001b[0m\n\u001b[0m",
      "\u001b[1;32m~\\AppData\\Local\\Temp\\ipykernel_26868\\1658717381.py\u001b[0m in \u001b[0;36mplot_building_load_profiles\u001b[1;34m(envs)\u001b[0m\n\u001b[0;32m     15\u001b[0m     \"\"\"\n\u001b[0;32m     16\u001b[0m \u001b[1;33m\u001b[0m\u001b[0m\n\u001b[1;32m---> 17\u001b[1;33m     \u001b[0mbuilding_count\u001b[0m \u001b[1;33m=\u001b[0m \u001b[0mlen\u001b[0m\u001b[1;33m(\u001b[0m\u001b[0mlist\u001b[0m\u001b[1;33m(\u001b[0m\u001b[0menvs\u001b[0m\u001b[1;33m.\u001b[0m\u001b[0mvalues\u001b[0m\u001b[1;33m(\u001b[0m\u001b[1;33m)\u001b[0m\u001b[1;33m)\u001b[0m\u001b[1;33m[\u001b[0m\u001b[1;36m0\u001b[0m\u001b[1;33m]\u001b[0m\u001b[1;33m.\u001b[0m\u001b[0mbuildings\u001b[0m\u001b[1;33m)\u001b[0m\u001b[1;33m\u001b[0m\u001b[1;33m\u001b[0m\u001b[0m\n\u001b[0m\u001b[0;32m     18\u001b[0m     \u001b[0mcolumn_count_limit\u001b[0m \u001b[1;33m=\u001b[0m \u001b[1;36m4\u001b[0m\u001b[1;33m\u001b[0m\u001b[1;33m\u001b[0m\u001b[0m\n\u001b[0;32m     19\u001b[0m     \u001b[0mrow_count\u001b[0m \u001b[1;33m=\u001b[0m \u001b[0mmath\u001b[0m\u001b[1;33m.\u001b[0m\u001b[0mceil\u001b[0m\u001b[1;33m(\u001b[0m\u001b[0mbuilding_count\u001b[0m\u001b[1;33m/\u001b[0m\u001b[0mcolumn_count_limit\u001b[0m\u001b[1;33m)\u001b[0m\u001b[1;33m\u001b[0m\u001b[1;33m\u001b[0m\u001b[0m\n",
      "\u001b[1;32m~\\AppData\\Roaming\\Python\\Python37\\site-packages\\gym\\core.py\u001b[0m in \u001b[0;36m__getattr__\u001b[1;34m(self, name)\u001b[0m\n\u001b[0;32m    236\u001b[0m                 \u001b[1;34m\"attempted to get missing private attribute '{}'\"\u001b[0m\u001b[1;33m.\u001b[0m\u001b[0mformat\u001b[0m\u001b[1;33m(\u001b[0m\u001b[0mname\u001b[0m\u001b[1;33m)\u001b[0m\u001b[1;33m\u001b[0m\u001b[1;33m\u001b[0m\u001b[0m\n\u001b[0;32m    237\u001b[0m             )\n\u001b[1;32m--> 238\u001b[1;33m         \u001b[1;32mreturn\u001b[0m \u001b[0mgetattr\u001b[0m\u001b[1;33m(\u001b[0m\u001b[0mself\u001b[0m\u001b[1;33m.\u001b[0m\u001b[0menv\u001b[0m\u001b[1;33m,\u001b[0m \u001b[0mname\u001b[0m\u001b[1;33m)\u001b[0m\u001b[1;33m\u001b[0m\u001b[1;33m\u001b[0m\u001b[0m\n\u001b[0m\u001b[0;32m    239\u001b[0m \u001b[1;33m\u001b[0m\u001b[0m\n\u001b[0;32m    240\u001b[0m     \u001b[1;33m@\u001b[0m\u001b[0mproperty\u001b[0m\u001b[1;33m\u001b[0m\u001b[1;33m\u001b[0m\u001b[0m\n",
      "\u001b[1;32m~\\AppData\\Roaming\\Python\\Python37\\site-packages\\gym\\core.py\u001b[0m in \u001b[0;36m__getattr__\u001b[1;34m(self, name)\u001b[0m\n\u001b[0;32m    236\u001b[0m                 \u001b[1;34m\"attempted to get missing private attribute '{}'\"\u001b[0m\u001b[1;33m.\u001b[0m\u001b[0mformat\u001b[0m\u001b[1;33m(\u001b[0m\u001b[0mname\u001b[0m\u001b[1;33m)\u001b[0m\u001b[1;33m\u001b[0m\u001b[1;33m\u001b[0m\u001b[0m\n\u001b[0;32m    237\u001b[0m             )\n\u001b[1;32m--> 238\u001b[1;33m         \u001b[1;32mreturn\u001b[0m \u001b[0mgetattr\u001b[0m\u001b[1;33m(\u001b[0m\u001b[0mself\u001b[0m\u001b[1;33m.\u001b[0m\u001b[0menv\u001b[0m\u001b[1;33m,\u001b[0m \u001b[0mname\u001b[0m\u001b[1;33m)\u001b[0m\u001b[1;33m\u001b[0m\u001b[1;33m\u001b[0m\u001b[0m\n\u001b[0m\u001b[0;32m    239\u001b[0m \u001b[1;33m\u001b[0m\u001b[0m\n\u001b[0;32m    240\u001b[0m     \u001b[1;33m@\u001b[0m\u001b[0mproperty\u001b[0m\u001b[1;33m\u001b[0m\u001b[1;33m\u001b[0m\u001b[0m\n",
      "\u001b[1;32m~\\AppData\\Roaming\\Python\\Python37\\site-packages\\gym\\core.py\u001b[0m in \u001b[0;36m__getattr__\u001b[1;34m(self, name)\u001b[0m\n\u001b[0;32m    236\u001b[0m                 \u001b[1;34m\"attempted to get missing private attribute '{}'\"\u001b[0m\u001b[1;33m.\u001b[0m\u001b[0mformat\u001b[0m\u001b[1;33m(\u001b[0m\u001b[0mname\u001b[0m\u001b[1;33m)\u001b[0m\u001b[1;33m\u001b[0m\u001b[1;33m\u001b[0m\u001b[0m\n\u001b[0;32m    237\u001b[0m             )\n\u001b[1;32m--> 238\u001b[1;33m         \u001b[1;32mreturn\u001b[0m \u001b[0mgetattr\u001b[0m\u001b[1;33m(\u001b[0m\u001b[0mself\u001b[0m\u001b[1;33m.\u001b[0m\u001b[0menv\u001b[0m\u001b[1;33m,\u001b[0m \u001b[0mname\u001b[0m\u001b[1;33m)\u001b[0m\u001b[1;33m\u001b[0m\u001b[1;33m\u001b[0m\u001b[0m\n\u001b[0m\u001b[0;32m    239\u001b[0m \u001b[1;33m\u001b[0m\u001b[0m\n\u001b[0;32m    240\u001b[0m     \u001b[1;33m@\u001b[0m\u001b[0mproperty\u001b[0m\u001b[1;33m\u001b[0m\u001b[1;33m\u001b[0m\u001b[0m\n",
      "\u001b[1;32m~\\AppData\\Roaming\\Python\\Python37\\site-packages\\gym\\core.py\u001b[0m in \u001b[0;36m__getattr__\u001b[1;34m(self, name)\u001b[0m\n\u001b[0;32m    236\u001b[0m                 \u001b[1;34m\"attempted to get missing private attribute '{}'\"\u001b[0m\u001b[1;33m.\u001b[0m\u001b[0mformat\u001b[0m\u001b[1;33m(\u001b[0m\u001b[0mname\u001b[0m\u001b[1;33m)\u001b[0m\u001b[1;33m\u001b[0m\u001b[1;33m\u001b[0m\u001b[0m\n\u001b[0;32m    237\u001b[0m             )\n\u001b[1;32m--> 238\u001b[1;33m         \u001b[1;32mreturn\u001b[0m \u001b[0mgetattr\u001b[0m\u001b[1;33m(\u001b[0m\u001b[0mself\u001b[0m\u001b[1;33m.\u001b[0m\u001b[0menv\u001b[0m\u001b[1;33m,\u001b[0m \u001b[0mname\u001b[0m\u001b[1;33m)\u001b[0m\u001b[1;33m\u001b[0m\u001b[1;33m\u001b[0m\u001b[0m\n\u001b[0m\u001b[0;32m    239\u001b[0m \u001b[1;33m\u001b[0m\u001b[0m\n\u001b[0;32m    240\u001b[0m     \u001b[1;33m@\u001b[0m\u001b[0mproperty\u001b[0m\u001b[1;33m\u001b[0m\u001b[1;33m\u001b[0m\u001b[0m\n",
      "\u001b[1;32m~\\AppData\\Roaming\\Python\\Python37\\site-packages\\gym\\core.py\u001b[0m in \u001b[0;36m__getattr__\u001b[1;34m(self, name)\u001b[0m\n\u001b[0;32m    236\u001b[0m                 \u001b[1;34m\"attempted to get missing private attribute '{}'\"\u001b[0m\u001b[1;33m.\u001b[0m\u001b[0mformat\u001b[0m\u001b[1;33m(\u001b[0m\u001b[0mname\u001b[0m\u001b[1;33m)\u001b[0m\u001b[1;33m\u001b[0m\u001b[1;33m\u001b[0m\u001b[0m\n\u001b[0;32m    237\u001b[0m             )\n\u001b[1;32m--> 238\u001b[1;33m         \u001b[1;32mreturn\u001b[0m \u001b[0mgetattr\u001b[0m\u001b[1;33m(\u001b[0m\u001b[0mself\u001b[0m\u001b[1;33m.\u001b[0m\u001b[0menv\u001b[0m\u001b[1;33m,\u001b[0m \u001b[0mname\u001b[0m\u001b[1;33m)\u001b[0m\u001b[1;33m\u001b[0m\u001b[1;33m\u001b[0m\u001b[0m\n\u001b[0m\u001b[0;32m    239\u001b[0m \u001b[1;33m\u001b[0m\u001b[0m\n\u001b[0;32m    240\u001b[0m     \u001b[1;33m@\u001b[0m\u001b[0mproperty\u001b[0m\u001b[1;33m\u001b[0m\u001b[1;33m\u001b[0m\u001b[0m\n",
      "\u001b[1;31mAttributeError\u001b[0m: 'CityLearnEnv' object has no attribute 'values'"
     ]
    }
   ],
   "source": [
    "plot_building_load_profiles(env)"
   ]
  },
  {
   "cell_type": "code",
   "execution_count": null,
   "id": "0d9e900f",
   "metadata": {},
   "outputs": [],
   "source": []
  }
 ],
 "metadata": {
  "kernelspec": {
   "display_name": "Python 3 (ipykernel)",
   "language": "python",
   "name": "python3"
  },
  "language_info": {
   "codemirror_mode": {
    "name": "ipython",
    "version": 3
   },
   "file_extension": ".py",
   "mimetype": "text/x-python",
   "name": "python",
   "nbconvert_exporter": "python",
   "pygments_lexer": "ipython3",
   "version": "3.7.16"
  }
 },
 "nbformat": 4,
 "nbformat_minor": 5
}
