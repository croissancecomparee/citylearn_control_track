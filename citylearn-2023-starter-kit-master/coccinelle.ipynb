{
 "cells": [
  {
   "cell_type": "code",
   "execution_count": 1,
   "id": "59e184dd",
   "metadata": {
    "scrolled": true
   },
   "outputs": [
    {
     "name": "stdout",
     "output_type": "stream",
     "text": [
      "Collecting numpy==1.21.6\n",
      "  Downloading numpy-1.21.6-cp37-cp37m-win_amd64.whl (14.0 MB)\n",
      "     ---------------------------------------- 14.0/14.0 MB 6.7 MB/s eta 0:00:00\n",
      "Installing collected packages: numpy\n",
      "  Attempting uninstall: numpy\n",
      "    Found existing installation: numpy 1.19.5\n",
      "    Uninstalling numpy-1.19.5:\n",
      "      Successfully uninstalled numpy-1.19.5\n",
      "Successfully installed numpy-1.21.6\n"
     ]
    },
    {
     "name": "stderr",
     "output_type": "stream",
     "text": [
      "ERROR: pip's dependency resolver does not currently take into account all the packages that are installed. This behaviour is the source of the following dependency conflicts.\n",
      "tensorflow 2.5.0 requires numpy~=1.19.2, but you have numpy 1.21.6 which is incompatible.\n"
     ]
    }
   ],
   "source": [
    "!pip install numpy==1.21.6"
   ]
  },
  {
   "cell_type": "code",
   "execution_count": 2,
   "id": "9f987349",
   "metadata": {},
   "outputs": [
    {
     "name": "stdout",
     "output_type": "stream",
     "text": [
      "Collecting CityLearn==2.1b9\n",
      "  Downloading CityLearn-2.1b9-py3-none-any.whl (16.0 MB)\n",
      "     ---------------------------------------- 16.0/16.0 MB 9.8 MB/s eta 0:00:00\n",
      "Collecting gym>=0.21.0\n",
      "  Using cached gym-0.26.2.tar.gz (721 kB)\n",
      "  Installing build dependencies: started\n",
      "  Installing build dependencies: finished with status 'done'\n",
      "  Getting requirements to build wheel: started\n",
      "  Getting requirements to build wheel: finished with status 'done'\n",
      "  Preparing metadata (pyproject.toml): started\n",
      "  Preparing metadata (pyproject.toml): finished with status 'done'\n",
      "Collecting torchvision>=0.13.0\n",
      "  Downloading torchvision-0.14.1-cp37-cp37m-win_amd64.whl (1.1 MB)\n",
      "     ---------------------------------------- 1.1/1.1 MB 5.0 MB/s eta 0:00:00\n",
      "Requirement already satisfied: matplotlib in c:\\users\\gaetan.cece\\appdata\\local\\anaconda3\\envs\\tensorflow_env\\lib\\site-packages (from CityLearn==2.1b9) (3.5.3)\n",
      "Requirement already satisfied: numpy>=1.21.6 in c:\\users\\gaetan.cece\\appdata\\local\\anaconda3\\envs\\tensorflow_env\\lib\\site-packages (from CityLearn==2.1b9) (1.21.6)\n",
      "Collecting simplejson\n",
      "  Downloading simplejson-3.19.2-cp37-cp37m-win_amd64.whl (75 kB)\n",
      "     ---------------------------------------- 75.1/75.1 kB 4.3 MB/s eta 0:00:00\n",
      "Collecting torch>=1.12.0\n",
      "  Downloading torch-1.13.1-cp37-cp37m-win_amd64.whl (162.6 MB)\n",
      "     -------------------------------------- 162.6/162.6 MB 3.7 MB/s eta 0:00:00\n",
      "Requirement already satisfied: scikit-learn==1.0.2 in c:\\users\\gaetan.cece\\appdata\\local\\anaconda3\\envs\\tensorflow_env\\lib\\site-packages (from CityLearn==2.1b9) (1.0.2)\n",
      "Collecting pandas==1.3.5\n",
      "  Downloading pandas-1.3.5-cp37-cp37m-win_amd64.whl (10.0 MB)\n",
      "     ---------------------------------------- 10.0/10.0 MB 6.4 MB/s eta 0:00:00\n",
      "Collecting pytz>=2017.3\n",
      "  Using cached pytz-2023.3.post1-py2.py3-none-any.whl (502 kB)\n",
      "Requirement already satisfied: python-dateutil>=2.7.3 in c:\\users\\gaetan.cece\\appdata\\local\\anaconda3\\envs\\tensorflow_env\\lib\\site-packages (from pandas==1.3.5->CityLearn==2.1b9) (2.8.2)\n",
      "Requirement already satisfied: joblib>=0.11 in c:\\users\\gaetan.cece\\appdata\\local\\anaconda3\\envs\\tensorflow_env\\lib\\site-packages (from scikit-learn==1.0.2->CityLearn==2.1b9) (1.3.1)\n",
      "Requirement already satisfied: scipy>=1.1.0 in c:\\users\\gaetan.cece\\appdata\\local\\anaconda3\\envs\\tensorflow_env\\lib\\site-packages (from scikit-learn==1.0.2->CityLearn==2.1b9) (1.7.3)\n",
      "Requirement already satisfied: threadpoolctl>=2.0.0 in c:\\users\\gaetan.cece\\appdata\\local\\anaconda3\\envs\\tensorflow_env\\lib\\site-packages (from scikit-learn==1.0.2->CityLearn==2.1b9) (3.1.0)\n",
      "Collecting cloudpickle>=1.2.0\n",
      "  Using cached cloudpickle-2.2.1-py3-none-any.whl (25 kB)\n",
      "Requirement already satisfied: importlib-metadata>=4.8.0 in c:\\users\\gaetan.cece\\appdata\\local\\anaconda3\\envs\\tensorflow_env\\lib\\site-packages (from gym>=0.21.0->CityLearn==2.1b9) (6.7.0)\n",
      "Collecting gym-notices>=0.0.4\n",
      "  Using cached gym_notices-0.0.8-py3-none-any.whl (3.0 kB)\n",
      "Requirement already satisfied: typing-extensions in c:\\users\\gaetan.cece\\appdata\\local\\anaconda3\\envs\\tensorflow_env\\lib\\site-packages (from torch>=1.12.0->CityLearn==2.1b9) (3.7.4.3)\n",
      "Requirement already satisfied: requests in c:\\users\\gaetan.cece\\appdata\\local\\anaconda3\\envs\\tensorflow_env\\lib\\site-packages (from torchvision>=0.13.0->CityLearn==2.1b9) (2.31.0)\n",
      "Requirement already satisfied: pillow!=8.3.*,>=5.3.0 in c:\\users\\gaetan.cece\\appdata\\local\\anaconda3\\envs\\tensorflow_env\\lib\\site-packages (from torchvision>=0.13.0->CityLearn==2.1b9) (9.5.0)\n",
      "Requirement already satisfied: fonttools>=4.22.0 in c:\\users\\gaetan.cece\\appdata\\local\\anaconda3\\envs\\tensorflow_env\\lib\\site-packages (from matplotlib->CityLearn==2.1b9) (4.38.0)\n",
      "Requirement already satisfied: kiwisolver>=1.0.1 in c:\\users\\gaetan.cece\\appdata\\local\\anaconda3\\envs\\tensorflow_env\\lib\\site-packages (from matplotlib->CityLearn==2.1b9) (1.4.4)\n",
      "Requirement already satisfied: pyparsing>=2.2.1 in c:\\users\\gaetan.cece\\appdata\\local\\anaconda3\\envs\\tensorflow_env\\lib\\site-packages (from matplotlib->CityLearn==2.1b9) (3.1.0)\n",
      "Requirement already satisfied: cycler>=0.10 in c:\\users\\gaetan.cece\\appdata\\local\\anaconda3\\envs\\tensorflow_env\\lib\\site-packages (from matplotlib->CityLearn==2.1b9) (0.11.0)\n",
      "Requirement already satisfied: packaging>=20.0 in c:\\users\\gaetan.cece\\appdata\\local\\anaconda3\\envs\\tensorflow_env\\lib\\site-packages (from matplotlib->CityLearn==2.1b9) (22.0)\n",
      "Requirement already satisfied: zipp>=0.5 in c:\\users\\gaetan.cece\\appdata\\local\\anaconda3\\envs\\tensorflow_env\\lib\\site-packages (from importlib-metadata>=4.8.0->gym>=0.21.0->CityLearn==2.1b9) (3.15.0)\n",
      "Requirement already satisfied: six>=1.5 in c:\\users\\gaetan.cece\\appdata\\local\\anaconda3\\envs\\tensorflow_env\\lib\\site-packages (from python-dateutil>=2.7.3->pandas==1.3.5->CityLearn==2.1b9) (1.15.0)\n",
      "Requirement already satisfied: charset-normalizer<4,>=2 in c:\\users\\gaetan.cece\\appdata\\local\\anaconda3\\envs\\tensorflow_env\\lib\\site-packages (from requests->torchvision>=0.13.0->CityLearn==2.1b9) (3.1.0)\n",
      "Requirement already satisfied: idna<4,>=2.5 in c:\\users\\gaetan.cece\\appdata\\local\\anaconda3\\envs\\tensorflow_env\\lib\\site-packages (from requests->torchvision>=0.13.0->CityLearn==2.1b9) (3.4)\n",
      "Requirement already satisfied: certifi>=2017.4.17 in c:\\users\\gaetan.cece\\appdata\\local\\anaconda3\\envs\\tensorflow_env\\lib\\site-packages (from requests->torchvision>=0.13.0->CityLearn==2.1b9) (2022.12.7)\n",
      "Requirement already satisfied: urllib3<3,>=1.21.1 in c:\\users\\gaetan.cece\\appdata\\local\\anaconda3\\envs\\tensorflow_env\\lib\\site-packages (from requests->torchvision>=0.13.0->CityLearn==2.1b9) (1.26.16)\n",
      "Building wheels for collected packages: gym\n",
      "  Building wheel for gym (pyproject.toml): started\n",
      "  Building wheel for gym (pyproject.toml): finished with status 'done'\n",
      "  Created wheel for gym: filename=gym-0.26.2-py3-none-any.whl size=827632 sha256=8270556d243326c46845f9f9073eb106c4e79b6f9148876bdaa65e4fd7fb31a3\n",
      "  Stored in directory: c:\\users\\gaetan.cece\\appdata\\local\\pip\\cache\\wheels\\e0\\d1\\88\\c3c712101dac979e0bf77cdd9c89bc650ad5f41c48d8d6f167\n",
      "Successfully built gym\n",
      "Installing collected packages: pytz, gym-notices, torch, simplejson, cloudpickle, torchvision, pandas, gym, CityLearn\n",
      "Successfully installed CityLearn-2.1b9 cloudpickle-2.2.1 gym-0.26.2 gym-notices-0.0.8 pandas-1.3.5 pytz-2023.3.post1 simplejson-3.19.2 torch-1.13.1 torchvision-0.14.1\n"
     ]
    }
   ],
   "source": [
    "!pip install CityLearn==2.1b9"
   ]
  },
  {
   "cell_type": "code",
   "execution_count": 3,
   "id": "06bc0b43",
   "metadata": {},
   "outputs": [
    {
     "name": "stdout",
     "output_type": "stream",
     "text": [
      "Defaulting to user installation because normal site-packages is not writeable\n",
      "Requirement already satisfied: gym==0.21.0 in c:\\users\\gacece\\appdata\\roaming\\python\\python37\\site-packages (0.21.0)\n",
      "Requirement already satisfied: cloudpickle>=1.2.0 in c:\\users\\gacece\\appdata\\roaming\\python\\python37\\site-packages (from gym==0.21.0) (2.2.1)\n",
      "Requirement already satisfied: importlib-metadata>=4.8.1 in c:\\programdata\\anaconda3\\envs\\tensorflow_gpu_0\\lib\\site-packages (from gym==0.21.0) (6.7.0)\n",
      "Requirement already satisfied: numpy>=1.18.0 in c:\\users\\gacece\\appdata\\roaming\\python\\python37\\site-packages (from gym==0.21.0) (1.21.6)\n",
      "Requirement already satisfied: zipp>=0.5 in c:\\programdata\\anaconda3\\envs\\tensorflow_gpu_0\\lib\\site-packages (from importlib-metadata>=4.8.1->gym==0.21.0) (3.15.0)\n",
      "Requirement already satisfied: typing-extensions>=3.6.4 in c:\\users\\gacece\\appdata\\roaming\\python\\python37\\site-packages (from importlib-metadata>=4.8.1->gym==0.21.0) (4.7.1)\n"
     ]
    }
   ],
   "source": [
    "!pip install gym==0.21.0\n"
   ]
  },
  {
   "cell_type": "code",
   "execution_count": 4,
   "id": "4bbfabe4",
   "metadata": {},
   "outputs": [
    {
     "name": "stdout",
     "output_type": "stream",
     "text": [
      "Defaulting to user installation because normal site-packages is not writeable\n",
      "Requirement already satisfied: Shimmy in c:\\users\\gacece\\appdata\\roaming\\python\\python37\\site-packages (1.1.0)\n",
      "Requirement already satisfied: numpy>=1.18.0 in c:\\users\\gacece\\appdata\\roaming\\python\\python37\\site-packages (from Shimmy) (1.21.6)\n",
      "Requirement already satisfied: gymnasium>=0.27.0 in c:\\users\\gacece\\appdata\\roaming\\python\\python37\\site-packages (from Shimmy) (0.28.1)\n",
      "Requirement already satisfied: typing-extensions>=4.3.0 in c:\\users\\gacece\\appdata\\roaming\\python\\python37\\site-packages (from gymnasium>=0.27.0->Shimmy) (4.7.1)\n",
      "Requirement already satisfied: farama-notifications>=0.0.1 in c:\\users\\gacece\\appdata\\roaming\\python\\python37\\site-packages (from gymnasium>=0.27.0->Shimmy) (0.0.4)\n",
      "Requirement already satisfied: importlib-metadata>=4.8.0 in c:\\programdata\\anaconda3\\envs\\tensorflow_gpu_0\\lib\\site-packages (from gymnasium>=0.27.0->Shimmy) (6.7.0)\n",
      "Requirement already satisfied: cloudpickle>=1.2.0 in c:\\users\\gacece\\appdata\\roaming\\python\\python37\\site-packages (from gymnasium>=0.27.0->Shimmy) (2.2.1)\n",
      "Requirement already satisfied: jax-jumpy>=1.0.0 in c:\\users\\gacece\\appdata\\roaming\\python\\python37\\site-packages (from gymnasium>=0.27.0->Shimmy) (1.0.0)\n",
      "Requirement already satisfied: zipp>=0.5 in c:\\programdata\\anaconda3\\envs\\tensorflow_gpu_0\\lib\\site-packages (from importlib-metadata>=4.8.0->gymnasium>=0.27.0->Shimmy) (3.15.0)\n"
     ]
    }
   ],
   "source": [
    "!pip install Shimmy"
   ]
  },
  {
   "cell_type": "code",
   "execution_count": 5,
   "id": "52023a05",
   "metadata": {},
   "outputs": [
    {
     "name": "stdout",
     "output_type": "stream",
     "text": [
      "Defaulting to user installation because normal site-packages is not writeable\n",
      "Requirement already satisfied: pickle5 in c:\\users\\gacece\\appdata\\roaming\\python\\python37\\site-packages (0.0.12)\n"
     ]
    }
   ],
   "source": [
    "!pip install pickle5"
   ]
  },
  {
   "cell_type": "code",
   "execution_count": 6,
   "id": "3c59574f",
   "metadata": {},
   "outputs": [],
   "source": [
    "#!pip install agents"
   ]
  },
  {
   "cell_type": "code",
   "execution_count": 7,
   "id": "35788e56",
   "metadata": {},
   "outputs": [],
   "source": [
    "#!pip install rewards"
   ]
  },
  {
   "cell_type": "code",
   "execution_count": 8,
   "id": "fbe71511",
   "metadata": {},
   "outputs": [
    {
     "name": "stdout",
     "output_type": "stream",
     "text": [
      "Defaulting to user installation because normal site-packages is not writeable\n",
      "Requirement already satisfied: stable_baselines3 in c:\\users\\gacece\\appdata\\roaming\\python\\python37\\site-packages (2.0.0)\n",
      "Requirement already satisfied: cloudpickle in c:\\users\\gacece\\appdata\\roaming\\python\\python37\\site-packages (from stable_baselines3) (2.2.1)\n",
      "Requirement already satisfied: typing-extensions<5,>=4.0 in c:\\users\\gacece\\appdata\\roaming\\python\\python37\\site-packages (from stable_baselines3) (4.7.1)\n",
      "Requirement already satisfied: matplotlib in c:\\programdata\\anaconda3\\envs\\tensorflow_gpu_0\\lib\\site-packages (from stable_baselines3) (3.5.3)\n",
      "Requirement already satisfied: pandas in c:\\users\\gacece\\appdata\\roaming\\python\\python37\\site-packages (from stable_baselines3) (1.3.5)\n",
      "Requirement already satisfied: numpy>=1.20 in c:\\users\\gacece\\appdata\\roaming\\python\\python37\\site-packages (from stable_baselines3) (1.21.6)\n",
      "Requirement already satisfied: gymnasium==0.28.1 in c:\\users\\gacece\\appdata\\roaming\\python\\python37\\site-packages (from stable_baselines3) (0.28.1)\n",
      "Requirement already satisfied: torch>=1.11 in c:\\users\\gacece\\appdata\\roaming\\python\\python37\\site-packages (from stable_baselines3) (1.13.1)\n",
      "Requirement already satisfied: farama-notifications>=0.0.1 in c:\\users\\gacece\\appdata\\roaming\\python\\python37\\site-packages (from gymnasium==0.28.1->stable_baselines3) (0.0.4)\n",
      "Requirement already satisfied: jax-jumpy>=1.0.0 in c:\\users\\gacece\\appdata\\roaming\\python\\python37\\site-packages (from gymnasium==0.28.1->stable_baselines3) (1.0.0)\n",
      "Requirement already satisfied: importlib-metadata>=4.8.0 in c:\\programdata\\anaconda3\\envs\\tensorflow_gpu_0\\lib\\site-packages (from gymnasium==0.28.1->stable_baselines3) (6.7.0)\n",
      "Requirement already satisfied: pillow>=6.2.0 in c:\\programdata\\anaconda3\\envs\\tensorflow_gpu_0\\lib\\site-packages (from matplotlib->stable_baselines3) (9.5.0)\n",
      "Requirement already satisfied: pyparsing>=2.2.1 in c:\\programdata\\anaconda3\\envs\\tensorflow_gpu_0\\lib\\site-packages (from matplotlib->stable_baselines3) (3.1.0)\n",
      "Requirement already satisfied: python-dateutil>=2.7 in c:\\programdata\\anaconda3\\envs\\tensorflow_gpu_0\\lib\\site-packages (from matplotlib->stable_baselines3) (2.8.2)\n",
      "Requirement already satisfied: packaging>=20.0 in c:\\programdata\\anaconda3\\envs\\tensorflow_gpu_0\\lib\\site-packages (from matplotlib->stable_baselines3) (22.0)\n",
      "Requirement already satisfied: kiwisolver>=1.0.1 in c:\\programdata\\anaconda3\\envs\\tensorflow_gpu_0\\lib\\site-packages (from matplotlib->stable_baselines3) (1.4.4)\n",
      "Requirement already satisfied: cycler>=0.10 in c:\\programdata\\anaconda3\\envs\\tensorflow_gpu_0\\lib\\site-packages (from matplotlib->stable_baselines3) (0.11.0)\n",
      "Requirement already satisfied: fonttools>=4.22.0 in c:\\programdata\\anaconda3\\envs\\tensorflow_gpu_0\\lib\\site-packages (from matplotlib->stable_baselines3) (4.38.0)\n",
      "Requirement already satisfied: pytz>=2017.3 in c:\\users\\gacece\\appdata\\roaming\\python\\python37\\site-packages (from pandas->stable_baselines3) (2023.3.post1)\n",
      "Requirement already satisfied: zipp>=0.5 in c:\\programdata\\anaconda3\\envs\\tensorflow_gpu_0\\lib\\site-packages (from importlib-metadata>=4.8.0->gymnasium==0.28.1->stable_baselines3) (3.15.0)\n",
      "Requirement already satisfied: six>=1.5 in c:\\users\\gacece\\appdata\\roaming\\python\\python37\\site-packages (from python-dateutil>=2.7->matplotlib->stable_baselines3) (1.15.0)\n"
     ]
    }
   ],
   "source": [
    "!pip install stable_baselines3"
   ]
  },
  {
   "cell_type": "code",
   "execution_count": 9,
   "id": "d6bf6e08",
   "metadata": {},
   "outputs": [
    {
     "name": "stdout",
     "output_type": "stream",
     "text": [
      "Defaulting to user installation because normal site-packages is not writeable\n",
      "Requirement already satisfied: tqdm in c:\\users\\gacece\\appdata\\roaming\\python\\python37\\site-packages (4.66.1)\n",
      "Requirement already satisfied: colorama in c:\\programdata\\anaconda3\\envs\\tensorflow_gpu_0\\lib\\site-packages (from tqdm) (0.4.6)\n"
     ]
    }
   ],
   "source": [
    "!pip install tqdm"
   ]
  },
  {
   "cell_type": "code",
   "execution_count": null,
   "id": "8f131240",
   "metadata": {},
   "outputs": [],
   "source": []
  },
  {
   "cell_type": "code",
   "execution_count": 1,
   "id": "4db931cf",
   "metadata": {},
   "outputs": [
    {
     "name": "stderr",
     "output_type": "stream",
     "text": [
      "C:\\Users\\gacece\\AppData\\Roaming\\Python\\Python37\\site-packages\\tqdm\\auto.py:21: TqdmWarning: IProgress not found. Please update jupyter and ipywidgets. See https://ipywidgets.readthedocs.io/en/stable/user_install.html\n",
      "  from .autonotebook import tqdm as notebook_tqdm\n"
     ]
    }
   ],
   "source": [
    "import numpy as np\n",
    "import time\n",
    "import os\n",
    "import csv\n",
    "from citylearn.citylearn import CityLearnEnv\n",
    "from citylearn.reward_function import SolarPenaltyAndComfortReward, SolarPenaltyReward, ComfortReward\n",
    "\n",
    "#from agents.user_agent import SubmissionAgent\n",
    "#from rewards.user_reward import SubmissionReward\n",
    "from stable_baselines3.sac import SAC\n",
    "from stable_baselines3.ppo import PPO\n",
    "from citylearn.wrappers import NormalizedObservationWrapper, StableBaselines3Wrapper\n",
    "\n",
    "from tqdm import tqdm\n",
    "import matplotlib.pyplot as plt "
   ]
  },
  {
   "cell_type": "code",
   "execution_count": 2,
   "id": "b756a54e",
   "metadata": {},
   "outputs": [],
   "source": [
    "class WrapperEnv:\n",
    "    \"\"\"\n",
    "    Env to wrap provide Citylearn Env data without providing full env\n",
    "    Preventing attribute access outside of the available functions\n",
    "    \"\"\"\n",
    "    def __init__(self, env_data):\n",
    "        self.observation_names = env_data['observation_names']\n",
    "        self.action_names = env_data['action_names']\n",
    "        self.observation_space = env_data['observation_space']\n",
    "        self.action_space = env_data['action_space']\n",
    "        self.time_steps = env_data['time_steps']\n",
    "        self.seconds_per_time_step = env_data['seconds_per_time_step']\n",
    "        self.random_seed = env_data['random_seed']\n",
    "        self.buildings_metadata = env_data['buildings_metadata']\n",
    "        self.episode_tracker = env_data['episode_tracker']\n",
    "    \n",
    "    def get_metadata(self):\n",
    "        return {'buildings': self.buildings_metadata}\n",
    "\n",
    "def create_citylearn_env(config, reward_function):\n",
    "    env = CityLearnEnv(config.SCHEMA, reward_function=reward_function)\n",
    "\n",
    "    env_data = dict(\n",
    "        observation_names = env.observation_names,\n",
    "        action_names = env.action_names,\n",
    "        observation_space = env.observation_space,\n",
    "        action_space = env.action_space,\n",
    "        time_steps = env.time_steps,\n",
    "        random_seed = None,\n",
    "        episode_tracker = None,\n",
    "        seconds_per_time_step = None,\n",
    "        buildings_metadata = env.get_metadata()['buildings']\n",
    "    )\n",
    "\n",
    "    wrapper_env = WrapperEnv(env_data)\n",
    "    return env, wrapper_env\n",
    "\n",
    "\n",
    "def update_power_outage_random_seed(env: CityLearnEnv, random_seed: int) -> CityLearnEnv:\n",
    "    \"\"\"Update random seed used in generating power outage signals.\n",
    "    \n",
    "    Used to optionally update random seed for stochastic power outage model in all buildings.\n",
    "    Random seeds should be updated before calling :py:meth:`citylearn.citylearn.CityLearnEnv.reset`.\n",
    "    \"\"\"\n",
    "\n",
    "    for b in env.buildings:\n",
    "        b.stochastic_power_outage_model.random_seed = random_seed\n",
    "\n",
    "    return env"
   ]
  },
  {
   "cell_type": "code",
   "execution_count": 3,
   "id": "a1eec7e3",
   "metadata": {},
   "outputs": [],
   "source": [
    "class Config:\n",
    "    data_dir = './data/'\n",
    "    SCHEMA = os.path.join(data_dir, 'schemas/warm_up/schema.json')\n",
    "    num_episodes = 1\n",
    "    \n",
    "config = Config()"
   ]
  },
  {
   "cell_type": "code",
   "execution_count": 4,
   "id": "cc3d200c",
   "metadata": {
    "scrolled": true
   },
   "outputs": [],
   "source": [
    "env, wrapper_env = create_citylearn_env(config, ComfortReward)"
   ]
  },
  {
   "cell_type": "code",
   "execution_count": 5,
   "id": "d129717d",
   "metadata": {},
   "outputs": [],
   "source": [
    "env = NormalizedObservationWrapper(env)\n",
    "env = StableBaselines3Wrapper(env)"
   ]
  },
  {
   "cell_type": "markdown",
   "id": "f8145e8a",
   "metadata": {},
   "source": [
    "# Test Trainning"
   ]
  },
  {
   "cell_type": "code",
   "execution_count": 6,
   "id": "6ca21935",
   "metadata": {},
   "outputs": [
    {
     "name": "stderr",
     "output_type": "stream",
     "text": [
      "C:\\Users\\gacece\\AppData\\Roaming\\Python\\Python37\\site-packages\\stable_baselines3\\common\\vec_env\\patch_gym.py:50: UserWarning: You provided an OpenAI Gym environment. We strongly recommend transitioning to Gymnasium environments. Stable-Baselines3 is automatically wrapping your environments in a compatibility layer, which could potentially cause issues.\n",
      "  \"You provided an OpenAI Gym environment. \"\n"
     ]
    },
    {
     "data": {
      "text/plain": [
       "<stable_baselines3.ppo.ppo.PPO at 0x2a8463c6408>"
      ]
     },
     "execution_count": 6,
     "metadata": {},
     "output_type": "execute_result"
    }
   ],
   "source": [
    "agent = PPO('MlpPolicy', env)\n",
    "agent.learn(total_timesteps=env.time_steps*1)"
   ]
  },
  {
   "cell_type": "code",
   "execution_count": 7,
   "id": "c0de5669",
   "metadata": {},
   "outputs": [
    {
     "name": "stderr",
     "output_type": "stream",
     "text": [
      "C:\\Users\\gacece\\AppData\\Roaming\\Python\\Python37\\site-packages\\stable_baselines3\\common\\save_util.py:278: UserWarning: Path 'models\\SubmissionRewardPPO' does not exist. Will create it.\n",
      "  warnings.warn(f\"Path '{path.parent}' does not exist. Will create it.\")\n"
     ]
    }
   ],
   "source": [
    "agent.save(\"models/SubmissionRewardPPO/SacModel_1epoch\")"
   ]
  },
  {
   "cell_type": "code",
   "execution_count": 8,
   "id": "d4dd1a6d",
   "metadata": {},
   "outputs": [
    {
     "data": {
      "text/plain": [
       "<stable_baselines3.ppo.ppo.PPO at 0x2a844b2e6c8>"
      ]
     },
     "execution_count": 8,
     "metadata": {},
     "output_type": "execute_result"
    }
   ],
   "source": [
    "agent = PPO('MlpPolicy', env)\n",
    "agent.load(\"models/SubmissionRewardPPO/SacModel_1epoch\")"
   ]
  },
  {
   "cell_type": "markdown",
   "id": "1e25651d",
   "metadata": {},
   "source": [
    "# Real Trainning"
   ]
  },
  {
   "cell_type": "code",
   "execution_count": 9,
   "id": "94179c82",
   "metadata": {},
   "outputs": [],
   "source": [
    "agent = PPO('MlpPolicy', env)"
   ]
  },
  {
   "cell_type": "code",
   "execution_count": 11,
   "id": "21a6c76d",
   "metadata": {},
   "outputs": [
    {
     "name": "stderr",
     "output_type": "stream",
     "text": [
      "  0%|          | 0/40 [00:00<?, ?it/s]C:\\Users\\gacece\\AppData\\Roaming\\Python\\Python37\\site-packages\\stable_baselines3\\common\\save_util.py:278: UserWarning: Path 'models\\ComfortReward' does not exist. Will create it.\n",
      "  warnings.warn(f\"Path '{path.parent}' does not exist. Will create it.\")\n",
      "100%|██████████| 40/40 [15:21<00:00, 23.03s/it]\n"
     ]
    }
   ],
   "source": [
    "#agent.load(\"models/ComfortReward/SacModel_38epoch\")\n",
    "\n",
    "for epochTrains in tqdm(range(40,80)):#changer le début du range si reprise d'entraienement\n",
    "    agent.learn(total_timesteps=env.time_steps*2)\n",
    "    agent.save(\"models/ComfortReward/SacModel_{}epoch\".format(epochTrains*2))"
   ]
  },
  {
   "cell_type": "code",
   "execution_count": 19,
   "id": "62201b11",
   "metadata": {},
   "outputs": [
    {
     "name": "stderr",
     "output_type": "stream",
     "text": [
      "100%|██████████| 40/40 [05:15<00:00,  7.89s/it]\n"
     ]
    }
   ],
   "source": [
    "PathSave = \"models/ComfortReward/\"\n",
    "trajectories_Full = []\n",
    "episode_metrics = []\n",
    "ind = 0\n",
    "\n",
    "for model in tqdm(os.listdir(PathSave)):\n",
    "    agent = PPO('MlpPolicy', env)\n",
    "    if(model[:3]  == \"Sac\") :\n",
    "        agent.load(PathSave+model[:-4])\n",
    "        trajectories_Full.append([])\n",
    "        observations = env.reset()\n",
    "        agent_time_elapsed = 0\n",
    "\n",
    "        step_start = time.perf_counter()\n",
    "        actions = agent.predict(observations)\n",
    "        agent_time_elapsed += time.perf_counter() - step_start\n",
    "\n",
    "        episodes_completed = 0\n",
    "        num_steps = 0\n",
    "        interrupted = False\n",
    "\n",
    "        while True:\n",
    "            observations, rewards, done, _ = env.step(actions[0])\n",
    "            if not done:\n",
    "                step_start = time.perf_counter()\n",
    "                actions = agent.predict(observations)\n",
    "\n",
    "                agent_time_elapsed += time.perf_counter() - step_start\n",
    "                trajectories_Full[ind].append([observations.tolist(), actions[0], rewards])\n",
    "            else:\n",
    "                episodes_completed += 1\n",
    "                metrics_df = env.evaluate_citylearn_challenge()\n",
    "                episode_metrics.append(metrics_df)\n",
    "                #print(\n",
    "                    #f\"Episode complete: {episodes_completed} | Latest episode metrics: {metrics_df}\"\n",
    "                #)\n",
    "\n",
    "                # Optional: Uncomment line below to update power outage random seed\n",
    "                # from what was initially defined in schema\n",
    "                env = update_power_outage_random_seed(env, 90000)\n",
    "\n",
    "                observations = env.reset()\n",
    "\n",
    "                step_start = time.perf_counter()\n",
    "                actions = agent.predict(observations)\n",
    "                agent_time_elapsed += time.perf_counter() - step_start\n",
    "\n",
    "            num_steps += 1\n",
    "\n",
    "            if episodes_completed >= 1:\n",
    "                break\n",
    "\n",
    "        ind += 1"
   ]
  },
  {
   "cell_type": "code",
   "execution_count": 16,
   "id": "0c6118ff",
   "metadata": {},
   "outputs": [],
   "source": [
    "import citylearn"
   ]
  },
  {
   "cell_type": "code",
   "execution_count": 17,
   "id": "5efb1a8b",
   "metadata": {},
   "outputs": [
    {
     "name": "stdout",
     "output_type": "stream",
     "text": [
      "2.1b9\n"
     ]
    }
   ],
   "source": [
    "print(citylearn.__version__)"
   ]
  },
  {
   "cell_type": "code",
   "execution_count": null,
   "id": "90ec416c",
   "metadata": {},
   "outputs": [],
   "source": [
    "for i [0,100]:\n",
    "    s = env.reset()\n",
    "    a = agent.predict(s)\n",
    "    MS,N,don = env.step(a)"
   ]
  },
  {
   "cell_type": "markdown",
   "id": "a7795ccc",
   "metadata": {},
   "source": [
    "# trajectoire "
   ]
  },
  {
   "cell_type": "code",
   "execution_count": 20,
   "id": "6ccab7ac",
   "metadata": {},
   "outputs": [],
   "source": [
    "rewardMean = []\n",
    "ind = 0\n",
    "for trajectoire in trajectories_Full:\n",
    "    rewardMean.append(0)\n",
    "    for step in trajectoire:\n",
    "        rewardMean[ind] += step[2]\n",
    "    rewardMean[ind] /= len(trajectoire)\n",
    "    ind+=1"
   ]
  },
  {
   "cell_type": "code",
   "execution_count": 21,
   "id": "aad83002",
   "metadata": {},
   "outputs": [],
   "source": [
    "plt.clf()\n",
    "plt.plot([k for k in range(len(trajectories_Full))], rewardMean, color=\"r\")\n",
    "plt.savefig(PathSave+\"RewardMeanPerEpisode\")"
   ]
  },
  {
   "cell_type": "code",
   "execution_count": 22,
   "id": "e8810939",
   "metadata": {},
   "outputs": [
    {
     "ename": "FileNotFoundError",
     "evalue": "[Errno 2] No such file or directory: 'trajectories/trajectories_train_1_eval_1_reward_test3.csv'",
     "output_type": "error",
     "traceback": [
      "\u001b[1;31m---------------------------------------------------------------------------\u001b[0m",
      "\u001b[1;31mFileNotFoundError\u001b[0m                         Traceback (most recent call last)",
      "\u001b[1;32m~\\AppData\\Local\\Temp\\ipykernel_6300\\2895179137.py\u001b[0m in \u001b[0;36m<module>\u001b[1;34m\u001b[0m\n\u001b[0;32m      1\u001b[0m \u001b[0mname\u001b[0m \u001b[1;33m=\u001b[0m \u001b[1;34m\"trajectories_train_1_eval_1_reward_test3\"\u001b[0m\u001b[1;33m\u001b[0m\u001b[1;33m\u001b[0m\u001b[0m\n\u001b[0;32m      2\u001b[0m \u001b[1;33m\u001b[0m\u001b[0m\n\u001b[1;32m----> 3\u001b[1;33m \u001b[1;32mwith\u001b[0m \u001b[0mopen\u001b[0m\u001b[1;33m(\u001b[0m\u001b[1;34m\"trajectories/\"\u001b[0m \u001b[1;33m+\u001b[0m \u001b[0mname\u001b[0m \u001b[1;33m+\u001b[0m \u001b[1;34m\".csv\"\u001b[0m\u001b[1;33m,\u001b[0m \u001b[1;34m\"w\"\u001b[0m\u001b[1;33m,\u001b[0m \u001b[0mnewline\u001b[0m\u001b[1;33m=\u001b[0m\u001b[1;34m''\u001b[0m\u001b[1;33m)\u001b[0m \u001b[1;32mas\u001b[0m \u001b[0mfichier\u001b[0m\u001b[1;33m:\u001b[0m\u001b[1;33m\u001b[0m\u001b[1;33m\u001b[0m\u001b[0m\n\u001b[0m\u001b[0;32m      4\u001b[0m     \u001b[0mwriter\u001b[0m \u001b[1;33m=\u001b[0m \u001b[0mcsv\u001b[0m\u001b[1;33m.\u001b[0m\u001b[0mwriter\u001b[0m\u001b[1;33m(\u001b[0m\u001b[0mfichier\u001b[0m\u001b[1;33m)\u001b[0m\u001b[1;33m\u001b[0m\u001b[1;33m\u001b[0m\u001b[0m\n\u001b[0;32m      5\u001b[0m     \u001b[0mwriter\u001b[0m\u001b[1;33m.\u001b[0m\u001b[0mwriterow\u001b[0m\u001b[1;33m(\u001b[0m\u001b[1;33m[\u001b[0m\u001b[1;34m\"observations\"\u001b[0m\u001b[1;33m,\u001b[0m \u001b[1;34m\"actions\"\u001b[0m\u001b[1;33m,\u001b[0m \u001b[1;34m\"rewards\"\u001b[0m\u001b[1;33m]\u001b[0m\u001b[1;33m)\u001b[0m\u001b[1;33m\u001b[0m\u001b[1;33m\u001b[0m\u001b[0m\n",
      "\u001b[1;31mFileNotFoundError\u001b[0m: [Errno 2] No such file or directory: 'trajectories/trajectories_train_1_eval_1_reward_test3.csv'"
     ]
    }
   ],
   "source": [
    "name = \"trajectories_train_1_eval_1_reward_test3\"\n",
    "\n",
    "with open(\"trajectories/\" + name + \".csv\", \"w\", newline='') as fichier:\n",
    "    writer = csv.writer(fichier)\n",
    "    writer.writerow([\"observations\", \"actions\", \"rewards\"])\n",
    "    for i in range(len(trajectories)):\n",
    "        writer.writerow(trajectories[i])"
   ]
  },
  {
   "cell_type": "markdown",
   "id": "38cad81b",
   "metadata": {},
   "source": [
    "\n",
    "\n",
    "\n",
    "\n",
    "# KPI\n",
    "\n",
    "\n",
    "\n",
    "\n"
   ]
  },
  {
   "cell_type": "code",
   "execution_count": null,
   "id": "46e18f44",
   "metadata": {},
   "outputs": [],
   "source": []
  },
  {
   "cell_type": "markdown",
   "id": "755f8fe0",
   "metadata": {},
   "source": [
    "note:\n",
    "    verbose\n",
    "    tensorboard"
   ]
  }
 ],
 "metadata": {
  "kernelspec": {
   "display_name": "Python 3 (ipykernel)",
   "language": "python",
   "name": "python3"
  },
  "language_info": {
   "codemirror_mode": {
    "name": "ipython",
    "version": 3
   },
   "file_extension": ".py",
   "mimetype": "text/x-python",
   "name": "python",
   "nbconvert_exporter": "python",
   "pygments_lexer": "ipython3",
   "version": "3.7.16"
  }
 },
 "nbformat": 4,
 "nbformat_minor": 5
}
