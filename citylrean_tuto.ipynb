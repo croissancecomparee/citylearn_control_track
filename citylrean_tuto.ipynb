{
 "cells": [
  {
   "cell_type": "markdown",
   "id": "3517ec78",
   "metadata": {},
   "source": [
    "# link to the tutorial\n",
    "\n",
    "https://colab.research.google.com/drive/1rZn6qLEIHMlu2iwNl1jKqvcEet8lS33A#scrollTo=WieiE91Fx0xr"
   ]
  },
  {
   "cell_type": "code",
   "execution_count": null,
   "id": "80d5d17f",
   "metadata": {},
   "outputs": [],
   "source": []
  }
 ],
 "metadata": {
  "kernelspec": {
   "display_name": "Python 3 (ipykernel)",
   "language": "python",
   "name": "python3"
  },
  "language_info": {
   "codemirror_mode": {
    "name": "ipython",
    "version": 3
   },
   "file_extension": ".py",
   "mimetype": "text/x-python",
   "name": "python",
   "nbconvert_exporter": "python",
   "pygments_lexer": "ipython3",
   "version": "3.7.16"
  }
 },
 "nbformat": 4,
 "nbformat_minor": 5
}
